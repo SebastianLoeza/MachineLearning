{
 "cells": [
  {
   "cell_type": "code",
   "execution_count": 28,
   "metadata": {},
   "outputs": [],
   "source": [
    "import matplotlib as plt\n",
    "import numpy as np\n",
    "import pandas as pd\n",
    "from sklearn.naive_bayes import GaussianNB, MultinomialNB\n",
    "from sklearn.neighbors import KNeighborsClassifier\n",
    "from sklearn.model_selection import train_test_split\n",
    "from sklearn.metrics import accuracy_score, classification_report, confusion_matrix, ConfusionMatrixDisplay\n",
    "from sklearn.model_selection import KFold\n"
   ]
  },
  {
   "cell_type": "markdown",
   "metadata": {},
   "source": [
    "### Cargamos los conjuntos de datos"
   ]
  },
  {
   "cell_type": "code",
   "execution_count": 29,
   "metadata": {},
   "outputs": [
    {
     "data": {
      "text/html": [
       "<div>\n",
       "<style scoped>\n",
       "    .dataframe tbody tr th:only-of-type {\n",
       "        vertical-align: middle;\n",
       "    }\n",
       "\n",
       "    .dataframe tbody tr th {\n",
       "        vertical-align: top;\n",
       "    }\n",
       "\n",
       "    .dataframe thead th {\n",
       "        text-align: right;\n",
       "    }\n",
       "</style>\n",
       "<table border=\"1\" class=\"dataframe\">\n",
       "  <thead>\n",
       "    <tr style=\"text-align: right;\">\n",
       "      <th></th>\n",
       "      <th>sepal_length</th>\n",
       "      <th>sepal_width</th>\n",
       "      <th>petal_length</th>\n",
       "      <th>petal_width</th>\n",
       "      <th>species</th>\n",
       "    </tr>\n",
       "  </thead>\n",
       "  <tbody>\n",
       "    <tr>\n",
       "      <th>0</th>\n",
       "      <td>5.1</td>\n",
       "      <td>3.5</td>\n",
       "      <td>1.4</td>\n",
       "      <td>0.2</td>\n",
       "      <td>Iris-setosa</td>\n",
       "    </tr>\n",
       "    <tr>\n",
       "      <th>1</th>\n",
       "      <td>4.9</td>\n",
       "      <td>3.0</td>\n",
       "      <td>1.4</td>\n",
       "      <td>0.2</td>\n",
       "      <td>Iris-setosa</td>\n",
       "    </tr>\n",
       "    <tr>\n",
       "      <th>2</th>\n",
       "      <td>4.7</td>\n",
       "      <td>3.2</td>\n",
       "      <td>1.3</td>\n",
       "      <td>0.2</td>\n",
       "      <td>Iris-setosa</td>\n",
       "    </tr>\n",
       "    <tr>\n",
       "      <th>3</th>\n",
       "      <td>4.6</td>\n",
       "      <td>3.1</td>\n",
       "      <td>1.5</td>\n",
       "      <td>0.2</td>\n",
       "      <td>Iris-setosa</td>\n",
       "    </tr>\n",
       "    <tr>\n",
       "      <th>4</th>\n",
       "      <td>5.0</td>\n",
       "      <td>3.6</td>\n",
       "      <td>1.4</td>\n",
       "      <td>0.2</td>\n",
       "      <td>Iris-setosa</td>\n",
       "    </tr>\n",
       "  </tbody>\n",
       "</table>\n",
       "</div>"
      ],
      "text/plain": [
       "   sepal_length  sepal_width  petal_length  petal_width      species\n",
       "0           5.1          3.5           1.4          0.2  Iris-setosa\n",
       "1           4.9          3.0           1.4          0.2  Iris-setosa\n",
       "2           4.7          3.2           1.3          0.2  Iris-setosa\n",
       "3           4.6          3.1           1.5          0.2  Iris-setosa\n",
       "4           5.0          3.6           1.4          0.2  Iris-setosa"
      ]
     },
     "execution_count": 29,
     "metadata": {},
     "output_type": "execute_result"
    }
   ],
   "source": [
    "iris = pd.read_csv('iris.csv')\n",
    "iris.head()"
   ]
  },
  {
   "cell_type": "code",
   "execution_count": 30,
   "metadata": {},
   "outputs": [
    {
     "data": {
      "text/html": [
       "<div>\n",
       "<style scoped>\n",
       "    .dataframe tbody tr th:only-of-type {\n",
       "        vertical-align: middle;\n",
       "    }\n",
       "\n",
       "    .dataframe tbody tr th {\n",
       "        vertical-align: top;\n",
       "    }\n",
       "\n",
       "    .dataframe thead th {\n",
       "        text-align: right;\n",
       "    }\n",
       "</style>\n",
       "<table border=\"1\" class=\"dataframe\">\n",
       "  <thead>\n",
       "    <tr style=\"text-align: right;\">\n",
       "      <th></th>\n",
       "      <th>Email No.</th>\n",
       "      <th>the</th>\n",
       "      <th>to</th>\n",
       "      <th>ect</th>\n",
       "      <th>and</th>\n",
       "      <th>for</th>\n",
       "      <th>of</th>\n",
       "      <th>a</th>\n",
       "      <th>you</th>\n",
       "      <th>hou</th>\n",
       "      <th>...</th>\n",
       "      <th>connevey</th>\n",
       "      <th>jay</th>\n",
       "      <th>valued</th>\n",
       "      <th>lay</th>\n",
       "      <th>infrastructure</th>\n",
       "      <th>military</th>\n",
       "      <th>allowing</th>\n",
       "      <th>ff</th>\n",
       "      <th>dry</th>\n",
       "      <th>Prediction</th>\n",
       "    </tr>\n",
       "  </thead>\n",
       "  <tbody>\n",
       "    <tr>\n",
       "      <th>0</th>\n",
       "      <td>Email 1</td>\n",
       "      <td>0</td>\n",
       "      <td>0</td>\n",
       "      <td>1</td>\n",
       "      <td>0</td>\n",
       "      <td>0</td>\n",
       "      <td>0</td>\n",
       "      <td>2</td>\n",
       "      <td>0</td>\n",
       "      <td>0</td>\n",
       "      <td>...</td>\n",
       "      <td>0</td>\n",
       "      <td>0</td>\n",
       "      <td>0</td>\n",
       "      <td>0</td>\n",
       "      <td>0</td>\n",
       "      <td>0</td>\n",
       "      <td>0</td>\n",
       "      <td>0</td>\n",
       "      <td>0</td>\n",
       "      <td>0</td>\n",
       "    </tr>\n",
       "    <tr>\n",
       "      <th>1</th>\n",
       "      <td>Email 2</td>\n",
       "      <td>8</td>\n",
       "      <td>13</td>\n",
       "      <td>24</td>\n",
       "      <td>6</td>\n",
       "      <td>6</td>\n",
       "      <td>2</td>\n",
       "      <td>102</td>\n",
       "      <td>1</td>\n",
       "      <td>27</td>\n",
       "      <td>...</td>\n",
       "      <td>0</td>\n",
       "      <td>0</td>\n",
       "      <td>0</td>\n",
       "      <td>0</td>\n",
       "      <td>0</td>\n",
       "      <td>0</td>\n",
       "      <td>0</td>\n",
       "      <td>1</td>\n",
       "      <td>0</td>\n",
       "      <td>0</td>\n",
       "    </tr>\n",
       "    <tr>\n",
       "      <th>2</th>\n",
       "      <td>Email 3</td>\n",
       "      <td>0</td>\n",
       "      <td>0</td>\n",
       "      <td>1</td>\n",
       "      <td>0</td>\n",
       "      <td>0</td>\n",
       "      <td>0</td>\n",
       "      <td>8</td>\n",
       "      <td>0</td>\n",
       "      <td>0</td>\n",
       "      <td>...</td>\n",
       "      <td>0</td>\n",
       "      <td>0</td>\n",
       "      <td>0</td>\n",
       "      <td>0</td>\n",
       "      <td>0</td>\n",
       "      <td>0</td>\n",
       "      <td>0</td>\n",
       "      <td>0</td>\n",
       "      <td>0</td>\n",
       "      <td>0</td>\n",
       "    </tr>\n",
       "    <tr>\n",
       "      <th>3</th>\n",
       "      <td>Email 4</td>\n",
       "      <td>0</td>\n",
       "      <td>5</td>\n",
       "      <td>22</td>\n",
       "      <td>0</td>\n",
       "      <td>5</td>\n",
       "      <td>1</td>\n",
       "      <td>51</td>\n",
       "      <td>2</td>\n",
       "      <td>10</td>\n",
       "      <td>...</td>\n",
       "      <td>0</td>\n",
       "      <td>0</td>\n",
       "      <td>0</td>\n",
       "      <td>0</td>\n",
       "      <td>0</td>\n",
       "      <td>0</td>\n",
       "      <td>0</td>\n",
       "      <td>0</td>\n",
       "      <td>0</td>\n",
       "      <td>0</td>\n",
       "    </tr>\n",
       "    <tr>\n",
       "      <th>4</th>\n",
       "      <td>Email 5</td>\n",
       "      <td>7</td>\n",
       "      <td>6</td>\n",
       "      <td>17</td>\n",
       "      <td>1</td>\n",
       "      <td>5</td>\n",
       "      <td>2</td>\n",
       "      <td>57</td>\n",
       "      <td>0</td>\n",
       "      <td>9</td>\n",
       "      <td>...</td>\n",
       "      <td>0</td>\n",
       "      <td>0</td>\n",
       "      <td>0</td>\n",
       "      <td>0</td>\n",
       "      <td>0</td>\n",
       "      <td>0</td>\n",
       "      <td>0</td>\n",
       "      <td>1</td>\n",
       "      <td>0</td>\n",
       "      <td>0</td>\n",
       "    </tr>\n",
       "  </tbody>\n",
       "</table>\n",
       "<p>5 rows × 3002 columns</p>\n",
       "</div>"
      ],
      "text/plain": [
       "  Email No.  the  to  ect  and  for  of    a  you  hou  ...  connevey  jay  \\\n",
       "0   Email 1    0   0    1    0    0   0    2    0    0  ...         0    0   \n",
       "1   Email 2    8  13   24    6    6   2  102    1   27  ...         0    0   \n",
       "2   Email 3    0   0    1    0    0   0    8    0    0  ...         0    0   \n",
       "3   Email 4    0   5   22    0    5   1   51    2   10  ...         0    0   \n",
       "4   Email 5    7   6   17    1    5   2   57    0    9  ...         0    0   \n",
       "\n",
       "   valued  lay  infrastructure  military  allowing  ff  dry  Prediction  \n",
       "0       0    0               0         0         0   0    0           0  \n",
       "1       0    0               0         0         0   1    0           0  \n",
       "2       0    0               0         0         0   0    0           0  \n",
       "3       0    0               0         0         0   0    0           0  \n",
       "4       0    0               0         0         0   1    0           0  \n",
       "\n",
       "[5 rows x 3002 columns]"
      ]
     },
     "execution_count": 30,
     "metadata": {},
     "output_type": "execute_result"
    }
   ],
   "source": [
    "emails = pd.read_csv('emails.csv')\n",
    "emails.head()"
   ]
  },
  {
   "cell_type": "markdown",
   "metadata": {},
   "source": [
    "Obtenemos los conjuntos de entrenamiento y prueba para Iris y Email"
   ]
  },
  {
   "cell_type": "code",
   "execution_count": 31,
   "metadata": {},
   "outputs": [],
   "source": [
    "X_iris=iris.drop('species', axis=1)\n",
    "y_iris=iris['species']\n",
    "\n",
    "X_emails=emails.drop(['Email No.', 'Prediction'], axis=1)\n",
    "y_emails=emails['Prediction']\n",
    "\n",
    "X_train_iris, X_test_iris, y_train_iris, y_test_iris = train_test_split(X_iris, y_iris, test_size=0.3, random_state=0)\n",
    "X_train_emails, X_test_emails, y_train_emails, y_test_emails = train_test_split(X_emails, y_emails, test_size=0.3, random_state=0)"
   ]
  },
  {
   "cell_type": "markdown",
   "metadata": {},
   "source": [
    "* Creamos una dataframe para adjuntar los resultados(tabla 1)"
   ]
  },
  {
   "cell_type": "code",
   "execution_count": 32,
   "metadata": {},
   "outputs": [],
   "source": [
    "table = pd.DataFrame(columns=[\"Dataset\", \"Vecinos\", \"Pesos\", \"Pliegue\", \"Accuracy\"])"
   ]
  },
  {
   "cell_type": "markdown",
   "metadata": {},
   "source": [
    "* Creamos un dataframe para adjuntar los resultados (tabla 2)"
   ]
  },
  {
   "cell_type": "code",
   "execution_count": 33,
   "metadata": {},
   "outputs": [],
   "source": [
    "resultados = pd.DataFrame(columns=[\"Dataset\", \"Clasificador\", \"Vecinos\", \"Pesos\", \"Distribución\", \"Accurracy\"])"
   ]
  },
  {
   "cell_type": "markdown",
   "metadata": {},
   "source": [
    "## Evaluamos los modelos para el dataset de iris"
   ]
  },
  {
   "cell_type": "markdown",
   "metadata": {},
   "source": [
    "Hacemos la validación cruzada para 3 pliegues para el dataset de iris ***con parámetro 1-nn***"
   ]
  },
  {
   "cell_type": "code",
   "execution_count": 34,
   "metadata": {},
   "outputs": [
    {
     "name": "stdout",
     "output_type": "stream",
     "text": [
      "[0.8571428571428571, 1.0, 0.9428571428571428]\n",
      "Mean Accuracy Iris:  0.9333333333333332\n"
     ]
    }
   ],
   "source": [
    "# Arreglo para guardar el accuracy\n",
    "accuracy_iris_1n = []\n",
    "\n",
    "# KFold\n",
    "kf = KFold(n_splits=3)\n",
    "\n",
    "#Modelo\n",
    "model_1nn = KNeighborsClassifier(n_neighbors=1)\n",
    "i=1\n",
    "for train_index, test_index in kf.split(X_train_iris):\n",
    "    X_train, X_test = X_train_iris.iloc[train_index], X_train_iris.iloc[test_index]\n",
    "    y_train, y_test = y_train_iris.iloc[train_index], y_train_iris.iloc[test_index]\n",
    "\n",
    "    model_1nn.fit(X_train, y_train)\n",
    "    y_pred = model_1nn.predict(X_test)\n",
    "    \n",
    "    accuracy_iris_1n.append(accuracy_score(y_test, y_pred))\n",
    "    \n",
    "    table = pd.concat([table, pd.DataFrame({\n",
    "    \"Dataset\": [\"iris.csv\"],\n",
    "    \"Vecinos\": [\"1\"],\n",
    "    \"Pesos\": [\"--------\"],\n",
    "    \"Pliegue\": [i],\n",
    "    \"Accuracy\": [accuracy_score(y_test, y_pred)]\n",
    "    })], ignore_index=True)\n",
    "    i+=1\n",
    "\n",
    "table = pd.concat([table, pd.DataFrame({\n",
    "\"Dataset\": [\"iris.csv\"],\n",
    "\"Vecinos\": [\"1\"],\n",
    "\"Pesos\": [\"--------\"],\n",
    "\"Pliegue\": [\"Promedio\"],\n",
    "\"Accuracy\": [np.mean(accuracy_iris_1n)]\n",
    "})], ignore_index=True)\n",
    "\n",
    "print(accuracy_iris_1n)\n",
    "mean_accuracy_iris_1n=np.mean(accuracy_iris_1n)\n",
    "print(\"Mean Accuracy Iris: \", np.mean(accuracy_iris_1n))\n"
   ]
  },
  {
   "cell_type": "markdown",
   "metadata": {},
   "source": [
    " Hacemos la validación cruzada para 3 pliegues para el dataset de iris con ***parámetros 10 nn y weights = distance***"
   ]
  },
  {
   "cell_type": "code",
   "execution_count": 35,
   "metadata": {},
   "outputs": [
    {
     "name": "stdout",
     "output_type": "stream",
     "text": [
      "[0.9142857142857143, 1.0, 0.9142857142857143]\n",
      "Mean Accuracy Iris:  0.9428571428571427\n"
     ]
    }
   ],
   "source": [
    "# Arreglo para guardar el accuracy\n",
    "accuracy_iris_10n_dist = []\n",
    "\n",
    "# KFold\n",
    "kf = KFold(n_splits=3)\n",
    "\n",
    "#Modelo\n",
    "model_10n_dist = KNeighborsClassifier(n_neighbors=10,weights='distance')\n",
    "i=1\n",
    "for train_index, test_index in kf.split(X_train_iris):\n",
    "    X_train, X_test = X_train_iris.iloc[train_index], X_train_iris.iloc[test_index]\n",
    "    y_train, y_test = y_train_iris.iloc[train_index], y_train_iris.iloc[test_index]\n",
    "\n",
    "    model_10n_dist.fit(X_train, y_train)\n",
    "    y_pred = model_10n_dist.predict(X_test)\n",
    "\n",
    "    accuracy_iris_10n_dist.append(accuracy_score(y_test, y_pred))\n",
    "    \n",
    "    table = pd.concat([table, pd.DataFrame({\n",
    "    \"Dataset\": [\"iris.csv\"],\n",
    "    \"Vecinos\": [\"10\"],\n",
    "    \"Pesos\": [\"Distance\"],\n",
    "    \"Pliegue\": [i],\n",
    "    \"Accuracy\": [accuracy_score(y_test, y_pred)]\n",
    "    })], ignore_index=True)\n",
    "    i+=1\n",
    "\n",
    "table = pd.concat([table, pd.DataFrame({\n",
    "\"Dataset\": [\"iris.csv\"],\n",
    "\"Vecinos\": [\"10\"],\n",
    "\"Pesos\": [\"Distance\"],\n",
    "\"Pliegue\": [\"Promedio\"],\n",
    "\"Accuracy\": [np.mean(accuracy_iris_10n_dist)]\n",
    "})], ignore_index=True)\n",
    "\n",
    "print(accuracy_iris_10n_dist)\n",
    "mean_accuracy_iris_10n_dist=np.mean(accuracy_iris_10n_dist)\n",
    "print(\"Mean Accuracy Iris: \", np.mean(accuracy_iris_10n_dist))"
   ]
  },
  {
   "cell_type": "markdown",
   "metadata": {},
   "source": [
    " Hacemos la validación cruzada para 3 pliegues para el dataset de iris con ***parámetros 10 nn y weights = uniform***"
   ]
  },
  {
   "cell_type": "code",
   "execution_count": 36,
   "metadata": {},
   "outputs": [
    {
     "name": "stdout",
     "output_type": "stream",
     "text": [
      "[0.9142857142857143, 1.0, 0.9142857142857143]\n",
      "Mean Accuracy Iris:  0.9428571428571427\n"
     ]
    }
   ],
   "source": [
    "# Arreglo para guardar el accuracy\n",
    "accuracy_iris_10n_uni = []\n",
    "\n",
    "# KFold\n",
    "kf = KFold(n_splits=3)\n",
    "\n",
    "#Modelo\n",
    "model_10n_uni = KNeighborsClassifier(n_neighbors=10,weights='uniform')\n",
    "i=1\n",
    "for train_index, test_index in kf.split(X_train_iris):\n",
    "    X_train, X_test = X_train_iris.iloc[train_index], X_train_iris.iloc[test_index]\n",
    "    y_train, y_test = y_train_iris.iloc[train_index], y_train_iris.iloc[test_index]\n",
    "\n",
    "    model_10n_uni.fit(X_train, y_train)\n",
    "    y_pred = model_10n_uni.predict(X_test)\n",
    "    accuracy_iris_10n_uni.append(accuracy_score(y_test, y_pred))\n",
    "\n",
    "    table = pd.concat([table, pd.DataFrame({\n",
    "    \"Dataset\": [\"iris.csv\"],\n",
    "    \"Vecinos\": [\"10\"],\n",
    "     \"Pesos\": [\"Uniform\"],\n",
    "    \"Pliegue\": [i],\n",
    "    \"Accuracy\": [accuracy_score(y_test, y_pred)]\n",
    "    })], ignore_index=True)\n",
    "    i+=1\n",
    "\n",
    "table = pd.concat([table, pd.DataFrame({\n",
    "\"Dataset\": [\"iris.csv\"],\n",
    "\"Vecinos\": [\"10\"],\n",
    "\"Pesos\": [\"Uniform\"],\n",
    "\"Pliegue\": [\"Promedio\"],\n",
    "\"Accuracy\": [np.mean(accuracy_iris_10n_uni)]\n",
    "})], ignore_index=True)\n",
    "\n",
    "print(accuracy_iris_10n_uni)\n",
    "mean_accuracy_iris_10n_uni=np.mean(accuracy_iris_10n_uni)\n",
    "print(\"Mean Accuracy Iris: \", np.mean(accuracy_iris_10n_uni))"
   ]
  },
  {
   "cell_type": "markdown",
   "metadata": {},
   "source": [
    "### Obtenemos el mejor modelo para entrenar los datos de Iris"
   ]
  },
  {
   "cell_type": "code",
   "execution_count": 37,
   "metadata": {},
   "outputs": [
    {
     "name": "stdout",
     "output_type": "stream",
     "text": [
      "Mean Accuracy Iris 1nn:  0.9333333333333332\n",
      "Mean Accuracy Iris 10n_dist:  0.9428571428571427\n",
      "Mean Accuracy Iris 10n_uni:  0.9428571428571427\n"
     ]
    }
   ],
   "source": [
    "print(\"Mean Accuracy Iris 1nn: \", mean_accuracy_iris_1n)\n",
    "print(\"Mean Accuracy Iris 10n_dist: \", mean_accuracy_iris_10n_dist)\n",
    "print(\"Mean Accuracy Iris 10n_uni: \", mean_accuracy_iris_10n_uni)"
   ]
  },
  {
   "cell_type": "code",
   "execution_count": 38,
   "metadata": {},
   "outputs": [
    {
     "name": "stdout",
     "output_type": "stream",
     "text": [
      "Hay empate\n"
     ]
    }
   ],
   "source": [
    "#Si el mejor modelo es 1nn\n",
    "if (mean_accuracy_iris_1n > mean_accuracy_iris_10n_dist) and (mean_accuracy_iris_1n > mean_accuracy_iris_10n_uni):\n",
    "    print(\"El mejor modelo es 1nn\")\n",
    "    model_1nn.fit(X_train_iris, y_train_iris)\n",
    "    y_pred_iris = model_1nn.predict(X_test_iris)\n",
    "    accuracy_f = accuracy_score(y_test, y_pred_iris)\n",
    "\n",
    "#Si el mejor modelo es 10n_dist\n",
    "elif (mean_accuracy_iris_10n_dist > mean_accuracy_iris_1n) and (mean_accuracy_iris_10n_dist > mean_accuracy_iris_10n_uni):\n",
    "    print(\"El mejor modelo es 10n_dist\")\n",
    "    model_10n_dist.fit(X_train_iris, y_train_iris)\n",
    "    y_pred_iris = model_10n_dist.predict(X_test_iris)\n",
    "    accuracy_f = accuracy_score(y_test, y_pred_iris)\n",
    "\n",
    "#Si el mejor modelo es 10n_uni\n",
    "elif (mean_accuracy_iris_10n_uni > mean_accuracy_iris_1n) and (mean_accuracy_iris_10n_uni > mean_accuracy_iris_10n_dist):\n",
    "    print(\"El mejor modelo es 10n_uni\")\n",
    "    model_10n_uni.fit(X_train_iris, y_train_iris)\n",
    "    y_pred_iris = model_10n_uni.predict(X_test_iris)\n",
    "    accuracy_f = accuracy_score(y_test, y_pred_iris)\n",
    "else:\n",
    "    print(\"Hay empate\")\n",
    "    model_10n_uni.fit(X_train_iris, y_train_iris)\n",
    "    y_pred_iris = model_10n_uni.predict(X_test_iris)\n",
    "    accuracy_f = accuracy_score(y_test_iris, y_pred_iris)"
   ]
  },
  {
   "cell_type": "code",
   "execution_count": 39,
   "metadata": {},
   "outputs": [],
   "source": [
    "model_GNN = GaussianNB()\n",
    "model_GNN.fit(X_train_iris, y_train_iris)\n",
    "y_pred_iris_GNB = model_GNN.predict(X_test_iris)\n",
    "accuracy_GNB = accuracy_score(y_test_iris, y_pred_iris_GNB)"
   ]
  },
  {
   "cell_type": "code",
   "execution_count": 40,
   "metadata": {},
   "outputs": [
    {
     "name": "stdout",
     "output_type": "stream",
     "text": [
      "                 precision    recall  f1-score   support\n",
      "\n",
      "    Iris-setosa       1.00      1.00      1.00        16\n",
      "Iris-versicolor       1.00      0.94      0.97        18\n",
      " Iris-virginica       0.92      1.00      0.96        11\n",
      "\n",
      "       accuracy                           0.98        45\n",
      "      macro avg       0.97      0.98      0.98        45\n",
      "   weighted avg       0.98      0.98      0.98        45\n",
      "\n"
     ]
    },
    {
     "data": {
      "text/plain": [
       "<sklearn.metrics._plot.confusion_matrix.ConfusionMatrixDisplay at 0x151728350>"
      ]
     },
     "execution_count": 40,
     "metadata": {},
     "output_type": "execute_result"
    },
    {
     "data": {
      "image/png": "[encoded data removed]",
      "text/plain": [
       "<Figure size 640x480 with 2 Axes>"
      ]
     },
     "metadata": {},
     "output_type": "display_data"
    }
   ],
   "source": [
    "print(classification_report(y_test_iris, y_pred_iris))\n",
    "cm_irirs = confusion_matrix(y_test_iris, y_pred_iris)\n",
    "disp = ConfusionMatrixDisplay(confusion_matrix=cm_irirs)\n",
    "disp.plot()"
   ]
  },
  {
   "cell_type": "markdown",
   "metadata": {},
   "source": [
    "## Evaluamos el modelo para el dataset emails"
   ]
  },
  {
   "cell_type": "markdown",
   "metadata": {},
   "source": [
    "Hacemos la validación cruzada para 3 pliegues para el dataset de emails ***con parámetro 1-nn***"
   ]
  },
  {
   "cell_type": "code",
   "execution_count": 41,
   "metadata": {},
   "outputs": [
    {
     "name": "stdout",
     "output_type": "stream",
     "text": [
      "[0.8566694283347142, 0.8376139188069595, 0.8482587064676617]\n",
      "Mean Accuracy Iris:  0.8475140178697784\n"
     ]
    }
   ],
   "source": [
    "# Arreglo para guardar el accuracy\n",
    "accuracy_emails_1n = []\n",
    "\n",
    "# KFold\n",
    "kf = KFold(n_splits=3)\n",
    "\n",
    "#Modelo\n",
    "model_1nn = KNeighborsClassifier(n_neighbors=1)\n",
    "i=1\n",
    "for train_index, test_index in kf.split(X_train_emails):\n",
    "\n",
    "    X_train, X_test = X_train_emails.iloc[train_index], X_train_emails.iloc[test_index]\n",
    "    y_train, y_test = y_train_emails.iloc[train_index], y_train_emails.iloc[test_index]\n",
    "\n",
    "    X_train = np.ascontiguousarray(X_train)\n",
    "    X_test = np.ascontiguousarray(X_test)\n",
    "    y_train = np.ascontiguousarray(y_train)\n",
    "    y_test = np.ascontiguousarray(y_test)\n",
    "    \n",
    "    model_1nn.fit(X_train, y_train)\n",
    "    y_pred = model_1nn.predict(X_test)\n",
    "    accuracy_emails_1n.append(accuracy_score(y_test, y_pred))\n",
    "\n",
    "    table = pd.concat([table, pd.DataFrame({\n",
    "    \"Dataset\": [\"emails.csv\"],\n",
    "    \"Vecinos\": [\"1\"],\n",
    "     \"Pesos\": [\"--------\"],\n",
    "    \"Pliegue\": [i],\n",
    "    \"Accuracy\": [accuracy_score(y_test, y_pred)]\n",
    "    })], ignore_index=True)\n",
    "    i+=1\n",
    "\n",
    "table = pd.concat([table, pd.DataFrame({\n",
    "\"Dataset\": [\"emails.csv\"],\n",
    "\"Vecinos\": [\"1\"],\n",
    "\"Pesos\": [\"--------\"],\n",
    "\"Pliegue\": [\"Promedio\"],\n",
    "\"Accuracy\": [np.mean(accuracy_emails_1n)]\n",
    "})], ignore_index=True)\n",
    "print(accuracy_emails_1n)\n",
    "mean_accuracy_emails_1n=np.mean(accuracy_emails_1n)\n",
    "print(\"Mean Accuracy Iris: \", np.mean(accuracy_emails_1n))"
   ]
  },
  {
   "cell_type": "markdown",
   "metadata": {},
   "source": [
    "Hacemos la validación cruzada para 3 pliegues para el dataset de emails ***con parámetro 10-nn y weights = distance***"
   ]
  },
  {
   "cell_type": "code",
   "execution_count": 42,
   "metadata": {},
   "outputs": [
    {
     "name": "stdout",
     "output_type": "stream",
     "text": [
      "[0.8765534382767192, 0.8492129246064622, 0.8698175787728026]\n",
      "Mean Accuracy emails:  0.8651946472186612\n"
     ]
    }
   ],
   "source": [
    "# Arreglo para guardar el accuracy\n",
    "accuracy_emails_10n_dist = []\n",
    "\n",
    "# KFold\n",
    "kf = KFold(n_splits=3)\n",
    "\n",
    "#Modelo\n",
    "model_10nn_dist = KNeighborsClassifier(n_neighbors=10, weights='distance')\n",
    "i=1\n",
    "for train_index, test_index in kf.split(X_train_emails):\n",
    "    X_train, X_test = X_train_emails.iloc[train_index], X_train_emails.iloc[test_index]\n",
    "    y_train, y_test = y_train_emails.iloc[train_index], y_train_emails.iloc[test_index]\n",
    "\n",
    "    X_train = np.ascontiguousarray(X_train)\n",
    "    X_test = np.ascontiguousarray(X_test)\n",
    "    y_train = np.ascontiguousarray(y_train)\n",
    "    y_test = np.ascontiguousarray(y_test)\n",
    "    \n",
    "    model_10nn_dist.fit(X_train, y_train)\n",
    "    y_pred = model_10nn_dist.predict(X_test)\n",
    "    \n",
    "    accuracy_emails_10n_dist.append(accuracy_score(y_test, y_pred))\n",
    "\n",
    "    table = pd.concat([table, pd.DataFrame({\n",
    "    \"Dataset\": [\"emails.csv\"],\n",
    "    \"Vecinos\": [\"10\"],\n",
    "     \"Pesos\": [\"Distance\"],\n",
    "    \"Pliegue\": [i],\n",
    "    \"Accuracy\": [accuracy_score(y_test, y_pred)]\n",
    "    })], ignore_index=True)\n",
    "    i+=1\n",
    "\n",
    "table = pd.concat([table, pd.DataFrame({\n",
    "\"Dataset\": [\"emails.csv\"],\n",
    "\"Vecinos\": [\"10\"],\n",
    "\"Pesos\": [\"Distance\"],\n",
    "\"Pliegue\": [\"Promedio\"],\n",
    "\"Accuracy\": [np.mean(accuracy_emails_10n_dist)]\n",
    "})], ignore_index=True)\n",
    "print(accuracy_emails_10n_dist)\n",
    "mean_accuracy_emails_10n_dist=np.mean(accuracy_emails_10n_dist)\n",
    "print(\"Mean Accuracy emails: \", np.mean(accuracy_emails_10n_dist))"
   ]
  },
  {
   "cell_type": "markdown",
   "metadata": {},
   "source": [
    "Hacemos la validación cruzada para 3 pliegues para el dataset de emails ***con parámetro 10-nn y weights = uniform***"
   ]
  },
  {
   "cell_type": "code",
   "execution_count": 43,
   "metadata": {},
   "outputs": [
    {
     "name": "stdout",
     "output_type": "stream",
     "text": [
      "[0.875724937862469, 0.8475559237779619, 0.8606965174129353]\n",
      "Mean Accuracy Emails:  0.8613257930177888\n"
     ]
    }
   ],
   "source": [
    "# Arreglo para guardar el accuracy\n",
    "accuracy_emails_10n_uni = []\n",
    "\n",
    "# KFold\n",
    "kf = KFold(n_splits=3)\n",
    "\n",
    "#Modelo\n",
    "model_10nn_uni = KNeighborsClassifier(n_neighbors=10, weights='uniform')\n",
    "i=1\n",
    "for train_index, test_index in kf.split(X_train_emails):\n",
    "    X_train2, X_test2 = X_train_emails.iloc[train_index], X_train_emails.iloc[test_index]\n",
    "    y_train2, y_test2 = y_train_emails.iloc[train_index], y_train_emails.iloc[test_index]\n",
    "\n",
    "    X_train2 = np.ascontiguousarray(X_train2)\n",
    "    X_test2 = np.ascontiguousarray(X_test2)\n",
    "    y_train2 = np.ascontiguousarray(y_train2)\n",
    "    y_test2 = np.ascontiguousarray(y_test2)\n",
    "    \n",
    "    model_10nn_uni.fit(X_train2, y_train2)\n",
    "    y_pred2 = model_10nn_uni.predict(X_test2)\n",
    "    \n",
    "    accuracy_emails_10n_uni.append(accuracy_score(y_test2, y_pred2))\n",
    "\n",
    "    table = pd.concat([table, pd.DataFrame({\n",
    "    \"Dataset\": [\"emails.csv\"],\n",
    "    \"Vecinos\": [\"10\"],\n",
    "     \"Pesos\": [\"Uniform\"],\n",
    "    \"Pliegue\": [i],\n",
    "    \"Accuracy\": [accuracy_score(y_test2, y_pred2)]\n",
    "    })], ignore_index=True)\n",
    "    i+=1\n",
    "\n",
    "table = pd.concat([table, pd.DataFrame({\n",
    "\"Dataset\": [\"emails.csv\"],\n",
    "\"Vecinos\": [\"10\"],\n",
    "\"Pesos\": [\"Uniform\"],\n",
    "\"Pliegue\": [\"Promedio\"],\n",
    "\"Accuracy\": [np.mean(accuracy_emails_10n_uni)]\n",
    "})], ignore_index=True)\n",
    "\n",
    "print(accuracy_emails_10n_uni)\n",
    "mean_accuracy_emails_10n_uni=np.mean(accuracy_emails_10n_uni)\n",
    "print(\"Mean Accuracy Emails: \", np.mean(accuracy_emails_10n_uni))"
   ]
  },
  {
   "cell_type": "markdown",
   "metadata": {},
   "source": [
    "## Obtenemos el mejor modelo para entrenar los datos de Emails"
   ]
  },
  {
   "cell_type": "code",
   "execution_count": 44,
   "metadata": {},
   "outputs": [
    {
     "name": "stdout",
     "output_type": "stream",
     "text": [
      "Mean Accuracy Emails 1nn:  0.8475140178697784\n",
      "Mean Accuracy Emails 10n_dist:  0.8651946472186612\n",
      "Mean Accuracy Emails 10n_uni:  0.8613257930177888\n"
     ]
    }
   ],
   "source": [
    "print(\"Mean Accuracy Emails 1nn: \", mean_accuracy_emails_1n)\n",
    "print(\"Mean Accuracy Emails 10n_dist: \", mean_accuracy_emails_10n_dist)\n",
    "print(\"Mean Accuracy Emails 10n_uni: \", mean_accuracy_emails_10n_uni)\n"
   ]
  },
  {
   "cell_type": "code",
   "execution_count": 45,
   "metadata": {},
   "outputs": [
    {
     "name": "stdout",
     "output_type": "stream",
     "text": [
      "El mejor modelo es 10n_dist\n"
     ]
    }
   ],
   "source": [
    "# Si el mejor modelo es 1nn\n",
    "if (mean_accuracy_emails_1n > mean_accuracy_emails_10n_dist) and (mean_accuracy_emails_1n > mean_accuracy_emails_10n_uni):\n",
    "    print(\"El mejor modelo es 1nn\")\n",
    "    model_1nn.fit(X_train_emails, y_train_emails)\n",
    "    y_pred_emails=model_1nn.predict(X_test_emails)\n",
    "    accuracy_fin2 = accuracy_score(y_test_emails, y_pred_emails)\n",
    "# Si el mejor modelo es 10n_dist\n",
    "elif (mean_accuracy_emails_10n_dist > mean_accuracy_emails_1n) and (mean_accuracy_emails_10n_dist > mean_accuracy_emails_10n_uni):\n",
    "    print(\"El mejor modelo es 10n_dist\")\n",
    "    model_10nn_dist.fit(X_train_emails, y_train_emails)\n",
    "    y_pred_emails = model_10nn_dist.predict(X_test_emails)\n",
    "    accuracy_fin2 = accuracy_score(y_test_emails, y_pred_emails)\n",
    "# Si el mejor modelo es 10n_uni\n",
    "elif (mean_accuracy_emails_10n_uni > mean_accuracy_emails_1n) and (mean_accuracy_emails_10n_uni > mean_accuracy_emails_10n_dist):\n",
    "    print(\"El mejor modelo es 10n_uni\")\n",
    "    model_10nn_uni.fit(X_train_emails, y_train_emails)\n",
    "    y_pred_emails = model_10nn_uni.predict(X_test_emails)\n",
    "    accuracy_fin2 = accuracy_score(y_test_emails, y_pred_emails)\n",
    "else:\n",
    "    print(\"Hay empate\")\n",
    "    model_10nn_uni.fit(X_train_emails, y_train_emails)\n",
    "    y_pred_emails = model_10nn_uni.predict(X_test_emails)\n",
    "    accuracy_fin2 = accuracy_score(y_test_emails, y_pred_emails)"
   ]
  },
  {
   "cell_type": "code",
   "execution_count": 46,
   "metadata": {},
   "outputs": [],
   "source": [
    "model_gnn_e = GaussianNB()\n",
    "model_gnn_e.fit(X_train_emails, y_train_emails)\n",
    "y_pred_emails_GNB = model_gnn_e.predict(X_test_emails)\n",
    "accuracy_f2 = accuracy_score(y_test_emails, y_pred_emails_GNB)"
   ]
  },
  {
   "cell_type": "code",
   "execution_count": 47,
   "metadata": {},
   "outputs": [
    {
     "name": "stdout",
     "output_type": "stream",
     "text": [
      "              precision    recall  f1-score   support\n",
      "\n",
      "           0       0.93      0.88      0.90      1111\n",
      "           1       0.74      0.83      0.78       441\n",
      "\n",
      "    accuracy                           0.87      1552\n",
      "   macro avg       0.83      0.85      0.84      1552\n",
      "weighted avg       0.87      0.87      0.87      1552\n",
      "\n"
     ]
    },
    {
     "data": {
      "text/plain": [
       "<sklearn.metrics._plot.confusion_matrix.ConfusionMatrixDisplay at 0x14f828c50>"
      ]
     },
     "execution_count": 47,
     "metadata": {},
     "output_type": "execute_result"
    },
    {
     "data": {
      "image/png": "[encoded data removed]",
      "text/plain": [
       "<Figure size 640x480 with 2 Axes>"
      ]
     },
     "metadata": {},
     "output_type": "display_data"
    }
   ],
   "source": [
    "print(classification_report(y_test_emails, y_pred_emails))\n",
    "cm_emails = confusion_matrix(y_test_emails, y_pred_emails)\n",
    "disp = ConfusionMatrixDisplay(confusion_matrix=cm_emails)\n",
    "disp.plot()\n"
   ]
  },
  {
   "cell_type": "markdown",
   "metadata": {},
   "source": [
    "## Imprimir los resultados"
   ]
  },
  {
   "cell_type": "markdown",
   "metadata": {},
   "source": [
    "# Tabla 1"
   ]
  },
  {
   "cell_type": "code",
   "execution_count": 48,
   "metadata": {},
   "outputs": [
    {
     "data": {
      "text/html": [
       "<div>\n",
       "<style scoped>\n",
       "    .dataframe tbody tr th:only-of-type {\n",
       "        vertical-align: middle;\n",
       "    }\n",
       "\n",
       "    .dataframe tbody tr th {\n",
       "        vertical-align: top;\n",
       "    }\n",
       "\n",
       "    .dataframe thead th {\n",
       "        text-align: right;\n",
       "    }\n",
       "</style>\n",
       "<table border=\"1\" class=\"dataframe\">\n",
       "  <thead>\n",
       "    <tr style=\"text-align: right;\">\n",
       "      <th></th>\n",
       "      <th>Dataset</th>\n",
       "      <th>Vecinos</th>\n",
       "      <th>Pesos</th>\n",
       "      <th>Pliegue</th>\n",
       "      <th>Accuracy</th>\n",
       "    </tr>\n",
       "  </thead>\n",
       "  <tbody>\n",
       "    <tr>\n",
       "      <th>0</th>\n",
       "      <td>iris.csv</td>\n",
       "      <td>1</td>\n",
       "      <td>--------</td>\n",
       "      <td>1</td>\n",
       "      <td>0.857143</td>\n",
       "    </tr>\n",
       "    <tr>\n",
       "      <th>1</th>\n",
       "      <td>iris.csv</td>\n",
       "      <td>1</td>\n",
       "      <td>--------</td>\n",
       "      <td>2</td>\n",
       "      <td>1.000000</td>\n",
       "    </tr>\n",
       "    <tr>\n",
       "      <th>2</th>\n",
       "      <td>iris.csv</td>\n",
       "      <td>1</td>\n",
       "      <td>--------</td>\n",
       "      <td>3</td>\n",
       "      <td>0.942857</td>\n",
       "    </tr>\n",
       "    <tr>\n",
       "      <th>3</th>\n",
       "      <td>iris.csv</td>\n",
       "      <td>1</td>\n",
       "      <td>--------</td>\n",
       "      <td>Promedio</td>\n",
       "      <td>0.933333</td>\n",
       "    </tr>\n",
       "    <tr>\n",
       "      <th>4</th>\n",
       "      <td>iris.csv</td>\n",
       "      <td>10</td>\n",
       "      <td>Distance</td>\n",
       "      <td>1</td>\n",
       "      <td>0.914286</td>\n",
       "    </tr>\n",
       "    <tr>\n",
       "      <th>5</th>\n",
       "      <td>iris.csv</td>\n",
       "      <td>10</td>\n",
       "      <td>Distance</td>\n",
       "      <td>2</td>\n",
       "      <td>1.000000</td>\n",
       "    </tr>\n",
       "    <tr>\n",
       "      <th>6</th>\n",
       "      <td>iris.csv</td>\n",
       "      <td>10</td>\n",
       "      <td>Distance</td>\n",
       "      <td>3</td>\n",
       "      <td>0.914286</td>\n",
       "    </tr>\n",
       "    <tr>\n",
       "      <th>7</th>\n",
       "      <td>iris.csv</td>\n",
       "      <td>10</td>\n",
       "      <td>Distance</td>\n",
       "      <td>Promedio</td>\n",
       "      <td>0.942857</td>\n",
       "    </tr>\n",
       "    <tr>\n",
       "      <th>8</th>\n",
       "      <td>iris.csv</td>\n",
       "      <td>10</td>\n",
       "      <td>Uniform</td>\n",
       "      <td>1</td>\n",
       "      <td>0.914286</td>\n",
       "    </tr>\n",
       "    <tr>\n",
       "      <th>9</th>\n",
       "      <td>iris.csv</td>\n",
       "      <td>10</td>\n",
       "      <td>Uniform</td>\n",
       "      <td>2</td>\n",
       "      <td>1.000000</td>\n",
       "    </tr>\n",
       "    <tr>\n",
       "      <th>10</th>\n",
       "      <td>iris.csv</td>\n",
       "      <td>10</td>\n",
       "      <td>Uniform</td>\n",
       "      <td>3</td>\n",
       "      <td>0.914286</td>\n",
       "    </tr>\n",
       "    <tr>\n",
       "      <th>11</th>\n",
       "      <td>iris.csv</td>\n",
       "      <td>10</td>\n",
       "      <td>Uniform</td>\n",
       "      <td>Promedio</td>\n",
       "      <td>0.942857</td>\n",
       "    </tr>\n",
       "    <tr>\n",
       "      <th>12</th>\n",
       "      <td>emails.csv</td>\n",
       "      <td>1</td>\n",
       "      <td>--------</td>\n",
       "      <td>1</td>\n",
       "      <td>0.856669</td>\n",
       "    </tr>\n",
       "    <tr>\n",
       "      <th>13</th>\n",
       "      <td>emails.csv</td>\n",
       "      <td>1</td>\n",
       "      <td>--------</td>\n",
       "      <td>2</td>\n",
       "      <td>0.837614</td>\n",
       "    </tr>\n",
       "    <tr>\n",
       "      <th>14</th>\n",
       "      <td>emails.csv</td>\n",
       "      <td>1</td>\n",
       "      <td>--------</td>\n",
       "      <td>3</td>\n",
       "      <td>0.848259</td>\n",
       "    </tr>\n",
       "    <tr>\n",
       "      <th>15</th>\n",
       "      <td>emails.csv</td>\n",
       "      <td>1</td>\n",
       "      <td>--------</td>\n",
       "      <td>Promedio</td>\n",
       "      <td>0.847514</td>\n",
       "    </tr>\n",
       "    <tr>\n",
       "      <th>16</th>\n",
       "      <td>emails.csv</td>\n",
       "      <td>10</td>\n",
       "      <td>Distance</td>\n",
       "      <td>1</td>\n",
       "      <td>0.876553</td>\n",
       "    </tr>\n",
       "    <tr>\n",
       "      <th>17</th>\n",
       "      <td>emails.csv</td>\n",
       "      <td>10</td>\n",
       "      <td>Distance</td>\n",
       "      <td>2</td>\n",
       "      <td>0.849213</td>\n",
       "    </tr>\n",
       "    <tr>\n",
       "      <th>18</th>\n",
       "      <td>emails.csv</td>\n",
       "      <td>10</td>\n",
       "      <td>Distance</td>\n",
       "      <td>3</td>\n",
       "      <td>0.869818</td>\n",
       "    </tr>\n",
       "    <tr>\n",
       "      <th>19</th>\n",
       "      <td>emails.csv</td>\n",
       "      <td>10</td>\n",
       "      <td>Distance</td>\n",
       "      <td>Promedio</td>\n",
       "      <td>0.865195</td>\n",
       "    </tr>\n",
       "    <tr>\n",
       "      <th>20</th>\n",
       "      <td>emails.csv</td>\n",
       "      <td>10</td>\n",
       "      <td>Uniform</td>\n",
       "      <td>1</td>\n",
       "      <td>0.875725</td>\n",
       "    </tr>\n",
       "    <tr>\n",
       "      <th>21</th>\n",
       "      <td>emails.csv</td>\n",
       "      <td>10</td>\n",
       "      <td>Uniform</td>\n",
       "      <td>2</td>\n",
       "      <td>0.847556</td>\n",
       "    </tr>\n",
       "    <tr>\n",
       "      <th>22</th>\n",
       "      <td>emails.csv</td>\n",
       "      <td>10</td>\n",
       "      <td>Uniform</td>\n",
       "      <td>3</td>\n",
       "      <td>0.860697</td>\n",
       "    </tr>\n",
       "    <tr>\n",
       "      <th>23</th>\n",
       "      <td>emails.csv</td>\n",
       "      <td>10</td>\n",
       "      <td>Uniform</td>\n",
       "      <td>Promedio</td>\n",
       "      <td>0.861326</td>\n",
       "    </tr>\n",
       "  </tbody>\n",
       "</table>\n",
       "</div>"
      ],
      "text/plain": [
       "       Dataset Vecinos     Pesos   Pliegue  Accuracy\n",
       "0     iris.csv       1  --------         1  0.857143\n",
       "1     iris.csv       1  --------         2  1.000000\n",
       "2     iris.csv       1  --------         3  0.942857\n",
       "3     iris.csv       1  --------  Promedio  0.933333\n",
       "4     iris.csv      10  Distance         1  0.914286\n",
       "5     iris.csv      10  Distance         2  1.000000\n",
       "6     iris.csv      10  Distance         3  0.914286\n",
       "7     iris.csv      10  Distance  Promedio  0.942857\n",
       "8     iris.csv      10   Uniform         1  0.914286\n",
       "9     iris.csv      10   Uniform         2  1.000000\n",
       "10    iris.csv      10   Uniform         3  0.914286\n",
       "11    iris.csv      10   Uniform  Promedio  0.942857\n",
       "12  emails.csv       1  --------         1  0.856669\n",
       "13  emails.csv       1  --------         2  0.837614\n",
       "14  emails.csv       1  --------         3  0.848259\n",
       "15  emails.csv       1  --------  Promedio  0.847514\n",
       "16  emails.csv      10  Distance         1  0.876553\n",
       "17  emails.csv      10  Distance         2  0.849213\n",
       "18  emails.csv      10  Distance         3  0.869818\n",
       "19  emails.csv      10  Distance  Promedio  0.865195\n",
       "20  emails.csv      10   Uniform         1  0.875725\n",
       "21  emails.csv      10   Uniform         2  0.847556\n",
       "22  emails.csv      10   Uniform         3  0.860697\n",
       "23  emails.csv      10   Uniform  Promedio  0.861326"
      ]
     },
     "execution_count": 48,
     "metadata": {},
     "output_type": "execute_result"
    }
   ],
   "source": [
    "table"
   ]
  },
  {
   "cell_type": "markdown",
   "metadata": {},
   "source": [
    "# Tabla 2"
   ]
  },
  {
   "cell_type": "code",
   "execution_count": 49,
   "metadata": {},
   "outputs": [],
   "source": [
    "resultados = pd.concat([resultados, pd.DataFrame({\n",
    "    \"Dataset\": [\"iris.csv\", \"iris.csv\"],\n",
    "    \"Clasificador\": [\"Naive Bayes\", \"K-NN\"],\n",
    "    \"Vecinos\" : [\"------\", \"10\"],\n",
    "    \"Pesos\" : [\"------\", \"Uniforme\"],\n",
    "    \"Distribución\": [\"Normal\", \"------\"],\n",
    "    \"Accurracy\": [accuracy_GNB,accuracy_f]\n",
    "})], ignore_index=True)\n",
    "\n",
    "resultados = pd.concat([resultados, pd.DataFrame({\n",
    "    \"Dataset\": [\"emails.csv\", \"emails.csv\"],\n",
    "    \"Clasificador\": [\"Naive Bayes\", \"K-NN\"],\n",
    "    \"Vecinos\" : [\"------\", \"10\"],\n",
    "    \"Pesos\" : [\"------\", \"Distancia\"],\n",
    "    \"Distribución\": [\"Normal\", \"------\"],\n",
    "    \"Accurracy\": [accuracy_f2, accuracy_fin2]\n",
    "})], ignore_index=True)"
   ]
  },
  {
   "cell_type": "code",
   "execution_count": 50,
   "metadata": {},
   "outputs": [
    {
     "data": {
      "text/html": [
       "<div>\n",
       "<style scoped>\n",
       "    .dataframe tbody tr th:only-of-type {\n",
       "        vertical-align: middle;\n",
       "    }\n",
       "\n",
       "    .dataframe tbody tr th {\n",
       "        vertical-align: top;\n",
       "    }\n",
       "\n",
       "    .dataframe thead th {\n",
       "        text-align: right;\n",
       "    }\n",
       "</style>\n",
       "<table border=\"1\" class=\"dataframe\">\n",
       "  <thead>\n",
       "    <tr style=\"text-align: right;\">\n",
       "      <th></th>\n",
       "      <th>Dataset</th>\n",
       "      <th>Clasificador</th>\n",
       "      <th>Vecinos</th>\n",
       "      <th>Pesos</th>\n",
       "      <th>Distribución</th>\n",
       "      <th>Accurracy</th>\n",
       "    </tr>\n",
       "  </thead>\n",
       "  <tbody>\n",
       "    <tr>\n",
       "      <th>0</th>\n",
       "      <td>iris.csv</td>\n",
       "      <td>Naive Bayes</td>\n",
       "      <td>------</td>\n",
       "      <td>------</td>\n",
       "      <td>Normal</td>\n",
       "      <td>1.000000</td>\n",
       "    </tr>\n",
       "    <tr>\n",
       "      <th>1</th>\n",
       "      <td>iris.csv</td>\n",
       "      <td>K-NN</td>\n",
       "      <td>10</td>\n",
       "      <td>Uniforme</td>\n",
       "      <td>------</td>\n",
       "      <td>0.977778</td>\n",
       "    </tr>\n",
       "    <tr>\n",
       "      <th>2</th>\n",
       "      <td>emails.csv</td>\n",
       "      <td>Naive Bayes</td>\n",
       "      <td>------</td>\n",
       "      <td>------</td>\n",
       "      <td>Normal</td>\n",
       "      <td>0.948454</td>\n",
       "    </tr>\n",
       "    <tr>\n",
       "      <th>3</th>\n",
       "      <td>emails.csv</td>\n",
       "      <td>K-NN</td>\n",
       "      <td>10</td>\n",
       "      <td>Distancia</td>\n",
       "      <td>------</td>\n",
       "      <td>0.866624</td>\n",
       "    </tr>\n",
       "  </tbody>\n",
       "</table>\n",
       "</div>"
      ],
      "text/plain": [
       "      Dataset Clasificador Vecinos      Pesos Distribución  Accurracy\n",
       "0    iris.csv  Naive Bayes  ------     ------       Normal   1.000000\n",
       "1    iris.csv         K-NN      10   Uniforme       ------   0.977778\n",
       "2  emails.csv  Naive Bayes  ------     ------       Normal   0.948454\n",
       "3  emails.csv         K-NN      10  Distancia       ------   0.866624"
      ]
     },
     "execution_count": 50,
     "metadata": {},
     "output_type": "execute_result"
    }
   ],
   "source": [
    "resultados"
   ]
  },
  {
   "cell_type": "markdown",
   "metadata": {},
   "source": [
    "### Resultados de confusión para iris 10 nn"
   ]
  },
  {
   "cell_type": "code",
   "execution_count": 51,
   "metadata": {},
   "outputs": [
    {
     "name": "stdout",
     "output_type": "stream",
     "text": [
      "                 precision    recall  f1-score   support\n",
      "\n",
      "    Iris-setosa       1.00      1.00      1.00        16\n",
      "Iris-versicolor       1.00      0.94      0.97        18\n",
      " Iris-virginica       0.92      1.00      0.96        11\n",
      "\n",
      "       accuracy                           0.98        45\n",
      "      macro avg       0.97      0.98      0.98        45\n",
      "   weighted avg       0.98      0.98      0.98        45\n",
      "\n"
     ]
    },
    {
     "data": {
      "text/plain": [
       "<sklearn.metrics._plot.confusion_matrix.ConfusionMatrixDisplay at 0x1535ff650>"
      ]
     },
     "execution_count": 51,
     "metadata": {},
     "output_type": "execute_result"
    },
    {
     "data": {
      "image/png": "[encoded data removed]",
      "text/plain": [
       "<Figure size 640x480 with 2 Axes>"
      ]
     },
     "metadata": {},
     "output_type": "display_data"
    }
   ],
   "source": [
    "print(classification_report(y_test_iris, y_pred_iris))\n",
    "cm_iris=confusion_matrix(y_test_iris, y_pred_iris)\n",
    "disp=ConfusionMatrixDisplay(confusion_matrix=cm_iris)\n",
    "disp.plot()\n",
    "\n"
   ]
  },
  {
   "cell_type": "markdown",
   "metadata": {},
   "source": [
    "### Resultados de confusión para iris GNB"
   ]
  },
  {
   "cell_type": "code",
   "execution_count": 52,
   "metadata": {},
   "outputs": [
    {
     "name": "stdout",
     "output_type": "stream",
     "text": [
      "                 precision    recall  f1-score   support\n",
      "\n",
      "    Iris-setosa       1.00      1.00      1.00        16\n",
      "Iris-versicolor       1.00      1.00      1.00        18\n",
      " Iris-virginica       1.00      1.00      1.00        11\n",
      "\n",
      "       accuracy                           1.00        45\n",
      "      macro avg       1.00      1.00      1.00        45\n",
      "   weighted avg       1.00      1.00      1.00        45\n",
      "\n"
     ]
    },
    {
     "data": {
      "text/plain": [
       "<sklearn.metrics._plot.confusion_matrix.ConfusionMatrixDisplay at 0x1515b0ad0>"
      ]
     },
     "execution_count": 52,
     "metadata": {},
     "output_type": "execute_result"
    },
    {
     "data": {
      "image/png": "[encoded data removed]",
      "text/plain": [
       "<Figure size 640x480 with 2 Axes>"
      ]
     },
     "metadata": {},
     "output_type": "display_data"
    }
   ],
   "source": [
    "print(classification_report(y_test_iris, y_pred_iris_GNB))\n",
    "cm_iris=confusion_matrix(y_test_iris, y_pred_iris_GNB)\n",
    "disp=ConfusionMatrixDisplay(confusion_matrix=cm_iris)\n",
    "disp.plot()"
   ]
  },
  {
   "cell_type": "markdown",
   "metadata": {},
   "source": [
    "### Resultados para emails 10 nn"
   ]
  },
  {
   "cell_type": "code",
   "execution_count": 53,
   "metadata": {},
   "outputs": [
    {
     "name": "stdout",
     "output_type": "stream",
     "text": [
      "              precision    recall  f1-score   support\n",
      "\n",
      "           0       0.93      0.88      0.90      1111\n",
      "           1       0.74      0.83      0.78       441\n",
      "\n",
      "    accuracy                           0.87      1552\n",
      "   macro avg       0.83      0.85      0.84      1552\n",
      "weighted avg       0.87      0.87      0.87      1552\n",
      "\n"
     ]
    },
    {
     "data": {
      "text/plain": [
       "<sklearn.metrics._plot.confusion_matrix.ConfusionMatrixDisplay at 0x1514b6310>"
      ]
     },
     "execution_count": 53,
     "metadata": {},
     "output_type": "execute_result"
    },
    {
     "data": {
      "image/png": "[encoded data removed]",
      "text/plain": [
       "<Figure size 640x480 with 2 Axes>"
      ]
     },
     "metadata": {},
     "output_type": "display_data"
    }
   ],
   "source": [
    "print(classification_report(y_test_emails, y_pred_emails))\n",
    "cm_emails=confusion_matrix(y_test_emails, y_pred_emails)\n",
    "disp=ConfusionMatrixDisplay(confusion_matrix=cm_emails)\n",
    "disp.plot()"
   ]
  },
  {
   "cell_type": "markdown",
   "metadata": {},
   "source": [
    "### Resultados de confusión para emails GNB"
   ]
  },
  {
   "cell_type": "code",
   "execution_count": 54,
   "metadata": {},
   "outputs": [
    {
     "name": "stdout",
     "output_type": "stream",
     "text": [
      "              precision    recall  f1-score   support\n",
      "\n",
      "           0       0.98      0.95      0.96      1111\n",
      "           1       0.88      0.95      0.91       441\n",
      "\n",
      "    accuracy                           0.95      1552\n",
      "   macro avg       0.93      0.95      0.94      1552\n",
      "weighted avg       0.95      0.95      0.95      1552\n",
      "\n"
     ]
    },
    {
     "data": {
      "text/plain": [
       "<sklearn.metrics._plot.confusion_matrix.ConfusionMatrixDisplay at 0x1535f82d0>"
      ]
     },
     "execution_count": 54,
     "metadata": {},
     "output_type": "execute_result"
    },
    {
     "data": {
      "image/png": "[encoded data removed]",
      "text/plain": [
       "<Figure size 640x480 with 2 Axes>"
      ]
     },
     "metadata": {},
     "output_type": "display_data"
    }
   ],
   "source": [
    "print(classification_report(y_test_emails,y_pred_emails_GNB))\n",
    "cm_emails=confusion_matrix(y_test_emails,y_pred_emails_GNB)\n",
    "disp=ConfusionMatrixDisplay(confusion_matrix=cm_emails)\n",
    "disp.plot()"
   ]
  }
 ],
 "metadata": {
  "kernelspec": {
   "display_name": "base",
   "language": "python",
   "name": "python3"
  },
  "language_info": {
   "codemirror_mode": {
    "name": "ipython",
    "version": 3
   },
   "file_extension": ".py",
   "mimetype": "text/x-python",
   "name": "python",
   "nbconvert_exporter": "python",
   "pygments_lexer": "ipython3",
   "version": "3.1.undefined"
  }
 },
 "nbformat": 4,
 "nbformat_minor": 2
}
