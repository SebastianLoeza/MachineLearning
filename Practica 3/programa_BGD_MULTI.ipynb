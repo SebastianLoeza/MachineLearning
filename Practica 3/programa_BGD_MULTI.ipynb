{
 "cells": [
  {
   "cell_type": "code",
   "execution_count": 1,
   "metadata": {},
   "outputs": [],
   "source": [
    "import pandas as pd\n",
    "import numpy as np\n",
    "from sklearn.model_selection import train_test_split\n",
    "import matplotlib.pyplot as plt"
   ]
  },
  {
   "cell_type": "code",
   "execution_count": 2,
   "metadata": {},
   "outputs": [
    {
     "data": {
      "text/html": [
       "<div>\n",
       "<style scoped>\n",
       "    .dataframe tbody tr th:only-of-type {\n",
       "        vertical-align: middle;\n",
       "    }\n",
       "\n",
       "    .dataframe tbody tr th {\n",
       "        vertical-align: top;\n",
       "    }\n",
       "\n",
       "    .dataframe thead th {\n",
       "        text-align: right;\n",
       "    }\n",
       "</style>\n",
       "<table border=\"1\" class=\"dataframe\">\n",
       "  <thead>\n",
       "    <tr style=\"text-align: right;\">\n",
       "      <th></th>\n",
       "      <th>x1</th>\n",
       "      <th>x2</th>\n",
       "      <th>x3</th>\n",
       "      <th>x4</th>\n",
       "      <th>x5</th>\n",
       "      <th>y</th>\n",
       "    </tr>\n",
       "  </thead>\n",
       "  <tbody>\n",
       "    <tr>\n",
       "      <th>0</th>\n",
       "      <td>1.0</td>\n",
       "      <td>0.4</td>\n",
       "      <td>-12.0</td>\n",
       "      <td>12.0</td>\n",
       "      <td>10.2</td>\n",
       "      <td>11.6</td>\n",
       "    </tr>\n",
       "    <tr>\n",
       "      <th>1</th>\n",
       "      <td>1.0</td>\n",
       "      <td>0.6</td>\n",
       "      <td>-15.0</td>\n",
       "      <td>16.0</td>\n",
       "      <td>11.9</td>\n",
       "      <td>14.5</td>\n",
       "    </tr>\n",
       "    <tr>\n",
       "      <th>2</th>\n",
       "      <td>1.0</td>\n",
       "      <td>0.8</td>\n",
       "      <td>-18.0</td>\n",
       "      <td>20.0</td>\n",
       "      <td>13.6</td>\n",
       "      <td>17.4</td>\n",
       "    </tr>\n",
       "    <tr>\n",
       "      <th>3</th>\n",
       "      <td>1.0</td>\n",
       "      <td>1.0</td>\n",
       "      <td>-21.0</td>\n",
       "      <td>24.0</td>\n",
       "      <td>15.3</td>\n",
       "      <td>20.3</td>\n",
       "    </tr>\n",
       "    <tr>\n",
       "      <th>4</th>\n",
       "      <td>1.0</td>\n",
       "      <td>1.2</td>\n",
       "      <td>-24.0</td>\n",
       "      <td>28.0</td>\n",
       "      <td>17.0</td>\n",
       "      <td>23.2</td>\n",
       "    </tr>\n",
       "  </tbody>\n",
       "</table>\n",
       "</div>"
      ],
      "text/plain": [
       "    x1   x2    x3    x4    x5     y\n",
       "0  1.0  0.4 -12.0  12.0  10.2  11.6\n",
       "1  1.0  0.6 -15.0  16.0  11.9  14.5\n",
       "2  1.0  0.8 -18.0  20.0  13.6  17.4\n",
       "3  1.0  1.0 -21.0  24.0  15.3  20.3\n",
       "4  1.0  1.2 -24.0  28.0  17.0  23.2"
      ]
     },
     "execution_count": 2,
     "metadata": {},
     "output_type": "execute_result"
    }
   ],
   "source": [
    "datos = pd.read_csv(\"Dataset_multivariable.csv\")\n",
    "datos.head()"
   ]
  },
  {
   "cell_type": "code",
   "execution_count": 3,
   "metadata": {},
   "outputs": [],
   "source": [
    "iteracion = int(input(\"Numero de iteraciones: \"))\n",
    "alpha = float(input(\"Introduce el valor de alpha: \"))\n",
    "pesos_ini=[]\n",
    "for i in range(len(datos.columns)-1):\n",
    "    aux=int(input('Introduzca el peso inicial:'))\n",
    "    pesos_ini.append(aux)\n",
    "\n"
   ]
  },
  {
   "cell_type": "code",
   "execution_count": 4,
   "metadata": {},
   "outputs": [
    {
     "data": {
      "text/plain": [
       "[0, 0, 0, 0, 0]"
      ]
     },
     "execution_count": 4,
     "metadata": {},
     "output_type": "execute_result"
    }
   ],
   "source": [
    "pesos_ini"
   ]
  },
  {
   "cell_type": "code",
   "execution_count": 5,
   "metadata": {},
   "outputs": [],
   "source": [
    "X = datos.drop(['y'],axis=1).values\n",
    "y = datos['y'].values\n",
    "X_train,X_test,y_train,y_test = train_test_split(X,y,test_size=0.3,shuffle=True,random_state=0)"
   ]
  },
  {
   "cell_type": "code",
   "execution_count": 6,
   "metadata": {},
   "outputs": [
    {
     "data": {
      "text/plain": [
       "5"
      ]
     },
     "execution_count": 6,
     "metadata": {},
     "output_type": "execute_result"
    }
   ],
   "source": [
    "X_train.shape[1]"
   ]
  },
  {
   "cell_type": "code",
   "execution_count": 7,
   "metadata": {},
   "outputs": [],
   "source": [
    "def iter_pesos(X_train,y_train,alpha,iteracion,pesos_ini):\n",
    "    elementos = [X_train[:, i] for i in range(X_train.shape[1])]\n",
    "    pesos = []  \n",
    "    for j in range(iteracion):\n",
    "        for i in range(len(elementos)):\n",
    "            peso = pesos_ini[i]\n",
    "            columna = elementos[i]\n",
    "            sum = 0\n",
    "            for x, y in zip(columna, y_train):\n",
    "                aux = (pesos_ini[i] * x - y) * x\n",
    "                sum += aux\n",
    "            pesos_ini[i] = pesos_ini[i] - 2 * alpha * sum\n",
    "        pesos.append(pesos_ini.copy())  # Es importante copiar los pesos_ini para evitar referencias\n",
    "    return pesos"
   ]
  },
  {
   "cell_type": "code",
   "execution_count": 8,
   "metadata": {},
   "outputs": [],
   "source": [
    "peso = iter_pesos(X_train,y_train,alpha,iteracion,pesos_ini)"
   ]
  },
  {
   "cell_type": "code",
   "execution_count": 9,
   "metadata": {},
   "outputs": [
    {
     "data": {
      "text/plain": [
       "[[0.0020532,\n",
       "  0.0030832800000000007,\n",
       "  -0.0585684,\n",
       "  0.0698784,\n",
       "  0.040169640000000006],\n",
       " [0.004106227531199999,\n",
       "  0.006166037569036801,\n",
       "  -0.1135882577808,\n",
       "  0.13371930624,\n",
       "  0.07918998642996],\n",
       " [0.006159082608087379,\n",
       "  0.009248272795631104,\n",
       "  -0.1652745724183769,\n",
       "  0.19204435818086402,\n",
       "  0.11709392172821242],\n",
       " [0.0082117652451483,\n",
       "  0.012329985768288613,\n",
       "  -0.2138293166246923,\n",
       "  0.24533012563403736,\n",
       "  0.15391338753364653]]"
      ]
     },
     "execution_count": 9,
     "metadata": {},
     "output_type": "execute_result"
    }
   ],
   "source": [
    "peso"
   ]
  },
  {
   "cell_type": "code",
   "execution_count": 10,
   "metadata": {},
   "outputs": [],
   "source": [
    "def predic(X_test, pesos):\n",
    "    pred = []\n",
    "    for columna in pesos:\n",
    "        pred_temp = [] \n",
    "        for fila_x in X_test:\n",
    "            sum = 0\n",
    "            for valor_columna, valor_x in zip(columna, fila_x):\n",
    "                sum += valor_columna * valor_x\n",
    "            pred_temp.append(sum) \n",
    "        pred.append(pred_temp) \n",
    "    return pred\n"
   ]
  },
  {
   "cell_type": "code",
   "execution_count": 11,
   "metadata": {},
   "outputs": [],
   "source": [
    "pred= predic(X_test,peso)"
   ]
  },
  {
   "cell_type": "code",
   "execution_count": 12,
   "metadata": {},
   "outputs": [
    {
     "data": {
      "text/plain": [
       "[[3.002626128, 6.147369192, 4.050873816],\n",
       " [5.804997637888285, 11.873986734371123, 7.827994003382564],\n",
       " [8.421864503496346, 17.21132733235039, 11.351685446447695],\n",
       " [10.86682803624258, 22.18839128646908, 14.640682452984747]]"
      ]
     },
     "execution_count": 12,
     "metadata": {},
     "output_type": "execute_result"
    }
   ],
   "source": [
    "pred"
   ]
  },
  {
   "cell_type": "code",
   "execution_count": 13,
   "metadata": {},
   "outputs": [],
   "source": [
    "def error_estim(y_test,pred):\n",
    "    erro_estim=[]\n",
    "    erro = []\n",
    "    for iterac in pred:\n",
    "        temp_erro = [] \n",
    "        for element, valor in zip(iterac, y_test):\n",
    "            suma = np.sum(np.abs(element - valor))\n",
    "            temp_erro.append(suma)\n",
    "        erro.append(temp_erro)\n",
    "    for i in erro:\n",
    "        sum=0\n",
    "        for k in i:\n",
    "            sum+=k\n",
    "        erro_estim.append(sum)\n",
    "    return erro_estim"
   ]
  },
  {
   "cell_type": "code",
   "execution_count": 14,
   "metadata": {},
   "outputs": [],
   "source": [
    "erro_estim = error_estim(y_test,pred)"
   ]
  },
  {
   "cell_type": "code",
   "execution_count": 15,
   "metadata": {},
   "outputs": [
    {
     "data": {
      "text/plain": [
       "[62.199130864, 49.89302162435803, 38.415122717705565, 27.704098224303586]"
      ]
     },
     "execution_count": 15,
     "metadata": {},
     "output_type": "execute_result"
    }
   ],
   "source": [
    "erro_estim"
   ]
  },
  {
   "cell_type": "code",
   "execution_count": 16,
   "metadata": {},
   "outputs": [],
   "source": [
    "def salida(pesos: np.ndarray, y_test:np.ndarray,pred:np.ndarray,error:np.ndarray):\n",
    "    print(\"\\n----------------------PESOS----------------------\\n\")\n",
    "    for i in range(len(pesos)):\n",
    "        print(\"Iteración \"+ str(i)+\": \"+str(pesos[i]))\n",
    "    print(\"\\n----------------------Y_TEST----------------------\\n\")\n",
    "    print(y_test)\n",
    "    print(\"\\n----------------------Y_PRED----------------------\\n\")\n",
    "    for i in range(len(pred)):\n",
    "        print(\"Iteracion \"+ str(i)+\": \"+ str(pred[i]))\n",
    "    print(\"\\n----------------------Error de estimación----------------------\\n\")\n",
    "    for i in range(len(error)):\n",
    "        print(\"Iteracion \"+ str(i)+\": \"+ str(error[i]))\n",
    "\n",
    "    iter=[]\n",
    "    for i in range(len(error)):\n",
    "        iter.append(i)\n",
    "    colores = ['r', 'g', 'b', 'c', 'm', 'y', 'k']\n",
    "    plt.scatter(x=iter, y=error, c=colores[:len(error)])\n",
    "    plt.xlabel(\"Iteraciones\")\n",
    "    plt.ylabel(\"Error\")\n",
    "    plt.show()\n"
   ]
  },
  {
   "cell_type": "code",
   "execution_count": 17,
   "metadata": {},
   "outputs": [
    {
     "name": "stdout",
     "output_type": "stream",
     "text": [
      "\n",
      "----------------------PESOS----------------------\n",
      "\n",
      "Iteración 0: [0.0020532, 0.0030832800000000007, -0.0585684, 0.0698784, 0.040169640000000006]\n",
      "Iteración 1: [0.004106227531199999, 0.006166037569036801, -0.1135882577808, 0.13371930624, 0.07918998642996]\n",
      "Iteración 2: [0.006159082608087379, 0.009248272795631104, -0.1652745724183769, 0.19204435818086402, 0.11709392172821242]\n",
      "Iteración 3: [0.0082117652451483, 0.012329985768288613, -0.2138293166246923, 0.24533012563403736, 0.15391338753364653]\n",
      "\n",
      "----------------------Y_TEST----------------------\n",
      "\n",
      "[17.4 34.8 23.2]\n",
      "\n",
      "----------------------Y_PRED----------------------\n",
      "\n",
      "Iteracion 0: [3.002626128, 6.147369192, 4.050873816]\n",
      "Iteracion 1: [5.804997637888285, 11.873986734371123, 7.827994003382564]\n",
      "Iteracion 2: [8.421864503496346, 17.21132733235039, 11.351685446447695]\n",
      "Iteracion 3: [10.86682803624258, 22.18839128646908, 14.640682452984747]\n",
      "\n",
      "----------------------Error de estimación----------------------\n",
      "\n",
      "Iteracion 0: 62.199130864\n",
      "Iteracion 1: 49.89302162435803\n",
      "Iteracion 2: 38.415122717705565\n",
      "Iteracion 3: 27.704098224303586\n"
     ]
    },
    {
     "data": {
      "image/png": "[encoded data removed]",
      "text/plain": [
       "<Figure size 640x480 with 1 Axes>"
      ]
     },
     "metadata": {},
     "output_type": "display_data"
    }
   ],
   "source": [
    "salida(peso,y_test,pred,erro_estim)"
   ]
  }
 ],
 "metadata": {
  "kernelspec": {
   "display_name": "base",
   "language": "python",
   "name": "python3"
  },
  "language_info": {
   "codemirror_mode": {
    "name": "ipython",
    "version": 3
   },
   "file_extension": ".py",
   "mimetype": "text/x-python",
   "name": "python",
   "nbconvert_exporter": "python",
   "pygments_lexer": "ipython3",
   "version": "3.11.5"
  }
 },
 "nbformat": 4,
 "nbformat_minor": 2
}
