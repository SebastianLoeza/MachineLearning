{
 "cells": [
  {
   "cell_type": "code",
   "execution_count": 1,
   "metadata": {},
   "outputs": [],
   "source": [
    "import pandas as pd\n",
    "import numpy as np\n",
    "from sklearn.metrics import classification_report, confusion_matrix,ConfusionMatrixDisplay\n",
    "from sklearn.model_selection import train_test_split\n",
    "import matplotlib.pyplot as plt\n",
    "pd.set_option('display.max_columns', None)"
   ]
  },
  {
   "cell_type": "markdown",
   "metadata": {},
   "source": [
    "Cargar el dataset"
   ]
  },
  {
   "cell_type": "code",
   "execution_count": 2,
   "metadata": {},
   "outputs": [
    {
     "data": {
      "text/html": [
       "<div>\n",
       "<style scoped>\n",
       "    .dataframe tbody tr th:only-of-type {\n",
       "        vertical-align: middle;\n",
       "    }\n",
       "\n",
       "    .dataframe tbody tr th {\n",
       "        vertical-align: top;\n",
       "    }\n",
       "\n",
       "    .dataframe thead th {\n",
       "        text-align: right;\n",
       "    }\n",
       "</style>\n",
       "<table border=\"1\" class=\"dataframe\">\n",
       "  <thead>\n",
       "    <tr style=\"text-align: right;\">\n",
       "      <th></th>\n",
       "      <th>sepal_length</th>\n",
       "      <th>sepal_width</th>\n",
       "      <th>petal_length</th>\n",
       "      <th>petal_width</th>\n",
       "      <th>species</th>\n",
       "    </tr>\n",
       "  </thead>\n",
       "  <tbody>\n",
       "    <tr>\n",
       "      <th>0</th>\n",
       "      <td>5.1</td>\n",
       "      <td>3.5</td>\n",
       "      <td>1.4</td>\n",
       "      <td>0.2</td>\n",
       "      <td>Iris-setosa</td>\n",
       "    </tr>\n",
       "    <tr>\n",
       "      <th>1</th>\n",
       "      <td>4.9</td>\n",
       "      <td>3.0</td>\n",
       "      <td>1.4</td>\n",
       "      <td>0.2</td>\n",
       "      <td>Iris-setosa</td>\n",
       "    </tr>\n",
       "    <tr>\n",
       "      <th>2</th>\n",
       "      <td>4.7</td>\n",
       "      <td>3.2</td>\n",
       "      <td>1.3</td>\n",
       "      <td>0.2</td>\n",
       "      <td>Iris-setosa</td>\n",
       "    </tr>\n",
       "    <tr>\n",
       "      <th>3</th>\n",
       "      <td>4.6</td>\n",
       "      <td>3.1</td>\n",
       "      <td>1.5</td>\n",
       "      <td>0.2</td>\n",
       "      <td>Iris-setosa</td>\n",
       "    </tr>\n",
       "    <tr>\n",
       "      <th>4</th>\n",
       "      <td>5.0</td>\n",
       "      <td>3.6</td>\n",
       "      <td>1.4</td>\n",
       "      <td>0.2</td>\n",
       "      <td>Iris-setosa</td>\n",
       "    </tr>\n",
       "  </tbody>\n",
       "</table>\n",
       "</div>"
      ],
      "text/plain": [
       "   sepal_length  sepal_width  petal_length  petal_width      species\n",
       "0           5.1          3.5           1.4          0.2  Iris-setosa\n",
       "1           4.9          3.0           1.4          0.2  Iris-setosa\n",
       "2           4.7          3.2           1.3          0.2  Iris-setosa\n",
       "3           4.6          3.1           1.5          0.2  Iris-setosa\n",
       "4           5.0          3.6           1.4          0.2  Iris-setosa"
      ]
     },
     "execution_count": 2,
     "metadata": {},
     "output_type": "execute_result"
    }
   ],
   "source": [
    "iris = pd.read_csv('iris.csv')\n",
    "iris.head()"
   ]
  },
  {
   "cell_type": "markdown",
   "metadata": {},
   "source": [
    "Obtenemos conjuntos de entrenamiento y de prueba"
   ]
  },
  {
   "cell_type": "code",
   "execution_count": 3,
   "metadata": {},
   "outputs": [],
   "source": [
    "X= iris.drop('species', axis=1)\n",
    "y = iris['species']\n",
    "\n",
    "X_train,X_test,y_train,y_test = train_test_split(X,y,test_size=0.2,random_state=0,shuffle=True)"
   ]
  },
  {
   "cell_type": "markdown",
   "metadata": {},
   "source": [
    "#### Obtenemos los conjuntos de datos para setosa usando la estrategia one vs all"
   ]
  },
  {
   "cell_type": "code",
   "execution_count": 4,
   "metadata": {},
   "outputs": [
    {
     "data": {
      "text/plain": [
       "set"
      ]
     },
     "execution_count": 4,
     "metadata": {},
     "output_type": "execute_result"
    }
   ],
   "source": [
    "X_train2=X_train.copy()\n",
    "X_train2['species'] = y_train\n",
    "X_train2.loc[X_train2['species']!='Iris-setosa','species'] = 'non-setosa'\n",
    "setosa=X_train2\n",
    "setosa['species'].value_counts()\n",
    "setosa_x = setosa.drop('species', axis=1)\n",
    "setosa_y = setosa['species']\n",
    "\n",
    "set"
   ]
  },
  {
   "cell_type": "markdown",
   "metadata": {},
   "source": [
    "#### Obtenemos los vectores"
   ]
  },
  {
   "cell_type": "code",
   "execution_count": 5,
   "metadata": {},
   "outputs": [],
   "source": [
    "vectores_setosa=setosa[setosa['species']=='Iris-setosa']\n",
    "vectores_No_setosa=setosa[setosa['species']=='non-setosa']\n",
    "\n",
    "vectores_setosa=vectores_setosa.drop('species', axis=1)\n",
    "vectores_No_setosa=vectores_No_setosa.drop('species', axis=1)\n",
    "\n",
    "vector_setosa=np.mean(vectores_setosa, axis=0).values\n",
    "vector_No_setosa=np.mean(vectores_No_setosa, axis=0).values\n",
    "\n"
   ]
  },
  {
   "cell_type": "code",
   "execution_count": 6,
   "metadata": {},
   "outputs": [
    {
     "name": "stdout",
     "output_type": "stream",
     "text": [
      "[5.02051282 3.4025641  1.46153846 0.23846154]\n",
      "[6.29506173 2.88518519 4.94938272 1.70864198]\n",
      "[5.65778727 3.14387464 3.20546059 0.97355176]\n",
      "7.288160620418297\n",
      "39\n"
     ]
    }
   ],
   "source": [
    "print(vector_setosa)\n",
    "print(vector_No_setosa)\n",
    "\n",
    "vector_c_setosa=(vector_setosa+vector_No_setosa)/2\n",
    "\n",
    "norm_vector_c_seto=np.linalg.norm(vector_c_setosa)\n",
    "N_seto = setosa[setosa['species']=='Iris-setosa'].shape[0]\n",
    "print(vector_c_setosa)\n",
    "print(norm_vector_c_seto)\n",
    "print(N_seto)\n"
   ]
  },
  {
   "cell_type": "markdown",
   "metadata": {},
   "source": [
    "#### Obtenemos los conjuntos de datos para virginica usando la estrategia one vs all"
   ]
  },
  {
   "cell_type": "code",
   "execution_count": 7,
   "metadata": {},
   "outputs": [],
   "source": [
    "X_train3=X_train.copy()\n",
    "X_train3['species'] = y_train\n",
    "X_train3.loc[X_train3['species']!='Iris-virginica','species'] = 'non-virginica'\n",
    "virginica=X_train3\n",
    "virginica['species'].value_counts()\n",
    "virginica_x = virginica.drop('species', axis=1)\n",
    "virginica_y = virginica['species']"
   ]
  },
  {
   "cell_type": "markdown",
   "metadata": {},
   "source": [
    "#### Obtenemos los vectores"
   ]
  },
  {
   "cell_type": "code",
   "execution_count": 8,
   "metadata": {},
   "outputs": [],
   "source": [
    "vectores_virginica=virginica[virginica['species']=='Iris-virginica']\n",
    "vectores_No_virginica=virginica[virginica['species']=='non-virginica']\n",
    "\n",
    "vectores_virginica=vectores_virginica.drop('species', axis=1)\n",
    "vectores_No_virginica=vectores_No_virginica.drop('species', axis=1)\n",
    "\n",
    "vector_virginica=np.mean(vectores_virginica, axis=0).values\n",
    "vector_No_virginica=np.mean(vectores_No_virginica, axis=0).values\n"
   ]
  },
  {
   "cell_type": "code",
   "execution_count": 9,
   "metadata": {},
   "outputs": [
    {
     "name": "stdout",
     "output_type": "stream",
     "text": [
      "[6.63863636 2.98863636 5.56590909 2.03181818]\n",
      "[5.44210526 3.09078947 2.80263158 0.76710526]\n",
      "[6.04037081 3.03971292 4.18427033 1.39946172]\n",
      "8.074190085679165\n",
      "44\n"
     ]
    }
   ],
   "source": [
    "print(vector_virginica)\n",
    "print(vector_No_virginica)\n",
    "\n",
    "vector_c_virginica=(vector_virginica+vector_No_virginica)/2\n",
    "\n",
    "norm_vector_c_virgi=np.linalg.norm(vector_c_virginica)\n",
    "N_virgi = virginica[virginica['species']=='Iris-virginica'].shape[0]\n",
    "\n",
    "print(vector_c_virginica)\n",
    "print(norm_vector_c_virgi)\n",
    "print(N_virgi)"
   ]
  },
  {
   "cell_type": "markdown",
   "metadata": {},
   "source": [
    "#### Obtenemos los conjuntos de datos para versicolor usando la estrategia one vs all"
   ]
  },
  {
   "cell_type": "code",
   "execution_count": 10,
   "metadata": {},
   "outputs": [],
   "source": [
    "X_train4=X_train.copy()\n",
    "X_train4['species'] = y_train\n",
    "X_train4.loc[X_train4['species']!='Iris-versicolor','species'] = 'non-versicolor'\n",
    "versicolor=X_train4\n",
    "versicolor['species'].value_counts()\n",
    "versicolor_x = versicolor.drop('species', axis=1)\n",
    "versicolor_y = versicolor['species']"
   ]
  },
  {
   "cell_type": "markdown",
   "metadata": {},
   "source": [
    "#### Obtenemos los vectores"
   ]
  },
  {
   "cell_type": "code",
   "execution_count": 11,
   "metadata": {},
   "outputs": [],
   "source": [
    "vectores_versicolor=versicolor[versicolor['species']=='Iris-versicolor']\n",
    "vectores_No_versicolor=versicolor[versicolor['species']=='non-versicolor']\n",
    "\n",
    "vectores_versicolor=vectores_versicolor.drop('species', axis=1)\n",
    "vectores_No_versicolor=vectores_No_versicolor.drop('species', axis=1)\n",
    "\n",
    "vector_versicolor=np.mean(vectores_versicolor, axis=0).values\n",
    "vector_No_versicolor=np.mean(vectores_No_versicolor, axis=0).values\n"
   ]
  },
  {
   "cell_type": "code",
   "execution_count": 12,
   "metadata": {},
   "outputs": [
    {
     "name": "stdout",
     "output_type": "stream",
     "text": [
      "[5.88648649 2.76216216 4.21621622 1.32432432]\n",
      "[5.87831325 3.18313253 3.6373494  1.18915663]\n",
      "[5.88239987 2.97264735 3.92678281 1.25674048]\n",
      "7.774206088552404\n",
      "37\n"
     ]
    }
   ],
   "source": [
    "print(vector_versicolor)\n",
    "print(vector_No_versicolor)\n",
    "\n",
    "vector_c_versicolor=(vector_versicolor+vector_No_versicolor)/2\n",
    "\n",
    "norm_vector_c_versi=np.linalg.norm(vector_c_versicolor)\n",
    "\n",
    "N_versi = versicolor[versicolor['species']=='Iris-versicolor'].shape[0]\n",
    "\n",
    "print(vector_c_versicolor)\n",
    "print(norm_vector_c_versi)\n",
    "print(N_versi)"
   ]
  },
  {
   "cell_type": "markdown",
   "metadata": {},
   "source": [
    "### Realizamos las pruebas"
   ]
  },
  {
   "cell_type": "code",
   "execution_count": 13,
   "metadata": {},
   "outputs": [],
   "source": [
    "clas_seto=[]\n",
    "clas_virgi=[]\n",
    "clas_versi=[]\n",
    "\n",
    "for index, row in X_test.iterrows():\n",
    "    \n",
    "    proy_setosa = np.dot(row.values, vector_c_setosa) / norm_vector_c_seto\n",
    "    proy_virginica = np.dot(row.values, vector_c_virginica) / norm_vector_c_virgi\n",
    "    proy_versicolor = np.dot(row.values, vector_c_versicolor) / norm_vector_c_versi\n",
    "\n",
    "    if (proy_setosa < norm_vector_c_seto): clas_seto.append(1)\n",
    "    else: clas_seto.append(0)\n",
    "\n",
    "    if (proy_virginica > norm_vector_c_virgi): clas_virgi.append(1)\n",
    "    else: clas_virgi.append(0)\n",
    "\n",
    "    if (proy_versicolor > norm_vector_c_versi): clas_versi.append(1)\n",
    "    else: clas_versi.append(0)\n",
    "\n",
    "\n"
   ]
  },
  {
   "cell_type": "code",
   "execution_count": 14,
   "metadata": {},
   "outputs": [],
   "source": [
    "y_pred = []\n",
    "\n",
    "for i in range(len(clas_seto)):\n",
    "    p_seto = clas_seto[i] * (N_seto / setosa_x.shape[0]) \n",
    "    p_virgi = clas_virgi[i] * (N_virgi / virginica_x.shape[0]) \n",
    "    p_versi = clas_versi[i] * (N_versi / versicolor_x.shape[0])\n",
    "\n",
    "    if p_seto == p_virgi == p_versi:\n",
    "        y_pred.append(\"indefinido\")\n",
    "    else:\n",
    "        if p_seto > p_virgi and p_seto > p_versi:\n",
    "            y_pred.append(\"Iris-setosa\")\n",
    "        elif p_virgi > p_seto and p_virgi > p_versi:\n",
    "            y_pred.append(\"Iris-virginica\")\n",
    "        elif p_versi > p_seto and p_versi > p_virgi:\n",
    "            y_pred.append(\"Iris-versicolor\")\n",
    "        else:\n",
    "            y_pred.append(\"indefinido\")\n"
   ]
  },
  {
   "cell_type": "code",
   "execution_count": 15,
   "metadata": {},
   "outputs": [
    {
     "data": {
      "text/plain": [
       "['Iris-virginica',\n",
       " 'indefinido',\n",
       " 'Iris-setosa',\n",
       " 'Iris-virginica',\n",
       " 'Iris-setosa',\n",
       " 'Iris-virginica',\n",
       " 'Iris-setosa',\n",
       " 'Iris-virginica',\n",
       " 'Iris-virginica',\n",
       " 'Iris-versicolor',\n",
       " 'Iris-virginica',\n",
       " 'Iris-virginica',\n",
       " 'Iris-virginica',\n",
       " 'Iris-virginica',\n",
       " 'Iris-virginica',\n",
       " 'Iris-setosa',\n",
       " 'Iris-virginica',\n",
       " 'indefinido',\n",
       " 'Iris-setosa',\n",
       " 'Iris-setosa',\n",
       " 'Iris-virginica',\n",
       " 'Iris-versicolor',\n",
       " 'Iris-setosa',\n",
       " 'Iris-setosa',\n",
       " 'Iris-virginica',\n",
       " 'Iris-setosa',\n",
       " 'Iris-setosa',\n",
       " 'Iris-virginica',\n",
       " 'Iris-setosa',\n",
       " 'Iris-setosa']"
      ]
     },
     "execution_count": 15,
     "metadata": {},
     "output_type": "execute_result"
    }
   ],
   "source": [
    "y_pred"
   ]
  },
  {
   "cell_type": "code",
   "execution_count": 16,
   "metadata": {},
   "outputs": [
    {
     "name": "stdout",
     "output_type": "stream",
     "text": [
      "                 precision    recall  f1-score   support\n",
      "\n",
      "    Iris-setosa       0.92      1.00      0.96        11\n",
      "Iris-versicolor       1.00      0.15      0.27        13\n",
      " Iris-virginica       0.43      1.00      0.60         6\n",
      "     indefinido       0.00      0.00      0.00         0\n",
      "\n",
      "       accuracy                           0.63        30\n",
      "      macro avg       0.59      0.54      0.46        30\n",
      "   weighted avg       0.86      0.63      0.59        30\n",
      "\n"
     ]
    },
    {
     "name": "stderr",
     "output_type": "stream",
     "text": [
      "/Users/sebastianloeza/anaconda3/lib/python3.11/site-packages/sklearn/metrics/_classification.py:1469: UndefinedMetricWarning: Recall and F-score are ill-defined and being set to 0.0 in labels with no true samples. Use `zero_division` parameter to control this behavior.\n",
      "  _warn_prf(average, modifier, msg_start, len(result))\n",
      "/Users/sebastianloeza/anaconda3/lib/python3.11/site-packages/sklearn/metrics/_classification.py:1469: UndefinedMetricWarning: Recall and F-score are ill-defined and being set to 0.0 in labels with no true samples. Use `zero_division` parameter to control this behavior.\n",
      "  _warn_prf(average, modifier, msg_start, len(result))\n",
      "/Users/sebastianloeza/anaconda3/lib/python3.11/site-packages/sklearn/metrics/_classification.py:1469: UndefinedMetricWarning: Recall and F-score are ill-defined and being set to 0.0 in labels with no true samples. Use `zero_division` parameter to control this behavior.\n",
      "  _warn_prf(average, modifier, msg_start, len(result))\n"
     ]
    }
   ],
   "source": [
    "print(classification_report(y_test, y_pred))\n"
   ]
  },
  {
   "cell_type": "code",
   "execution_count": 17,
   "metadata": {},
   "outputs": [
    {
     "data": {
      "image/png": "[encoded data removed]",
      "text/plain": [
       "<Figure size 640x480 with 2 Axes>"
      ]
     },
     "metadata": {},
     "output_type": "display_data"
    }
   ],
   "source": [
    "cm = confusion_matrix(y_test, y_pred)\n",
    "\n",
    "disp=ConfusionMatrixDisplay(confusion_matrix=cm,display_labels=['Iris-setosa','Iris-versicolor','Iris-virginica', 'indefinido'])\n",
    "disp.plot()\n",
    "plt.show()"
   ]
  }
 ],
 "metadata": {
  "kernelspec": {
   "display_name": "base",
   "language": "python",
   "name": "python3"
  },
  "language_info": {
   "codemirror_mode": {
    "name": "ipython",
    "version": 3
   },
   "file_extension": ".py",
   "mimetype": "text/x-python",
   "name": "python",
   "nbconvert_exporter": "python",
   "pygments_lexer": "ipython3",
   "version": "3.1.undefined"
  }
 },
 "nbformat": 4,
 "nbformat_minor": 2
}
