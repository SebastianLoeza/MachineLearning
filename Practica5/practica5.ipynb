{
 "cells": [
  {
   "cell_type": "code",
   "execution_count": 1,
   "metadata": {},
   "outputs": [],
   "source": [
    "import pandas as pd\n",
    "import numpy as np\n",
    "from sklearn.model_selection import train_test_split\n",
    "from sklearn.model_selection import KFold\n",
    "from sklearn.naive_bayes import GaussianNB\n",
    "from sklearn.naive_bayes import MultinomialNB\n",
    "from sklearn.metrics import accuracy_score\n",
    "from  sklearn.metrics import classification_report\n",
    "from sklearn.metrics import confusion_matrix\n",
    "from sklearn.metrics import ConfusionMatrixDisplay\n",
    "\n",
    "import matplotlib.pyplot as plt"
   ]
  },
  {
   "cell_type": "markdown",
   "metadata": {},
   "source": [
    "# CONJUNTO DE DATOS IRIS"
   ]
  },
  {
   "cell_type": "code",
   "execution_count": 2,
   "metadata": {},
   "outputs": [
    {
     "data": {
      "text/html": [
       "<div>\n",
       "<style scoped>\n",
       "    .dataframe tbody tr th:only-of-type {\n",
       "        vertical-align: middle;\n",
       "    }\n",
       "\n",
       "    .dataframe tbody tr th {\n",
       "        vertical-align: top;\n",
       "    }\n",
       "\n",
       "    .dataframe thead th {\n",
       "        text-align: right;\n",
       "    }\n",
       "</style>\n",
       "<table border=\"1\" class=\"dataframe\">\n",
       "  <thead>\n",
       "    <tr style=\"text-align: right;\">\n",
       "      <th></th>\n",
       "      <th>sepal_length</th>\n",
       "      <th>sepal_width</th>\n",
       "      <th>petal_length</th>\n",
       "      <th>petal_width</th>\n",
       "      <th>species</th>\n",
       "    </tr>\n",
       "  </thead>\n",
       "  <tbody>\n",
       "    <tr>\n",
       "      <th>0</th>\n",
       "      <td>5.1</td>\n",
       "      <td>3.5</td>\n",
       "      <td>1.4</td>\n",
       "      <td>0.2</td>\n",
       "      <td>Iris-setosa</td>\n",
       "    </tr>\n",
       "    <tr>\n",
       "      <th>1</th>\n",
       "      <td>4.9</td>\n",
       "      <td>3.0</td>\n",
       "      <td>1.4</td>\n",
       "      <td>0.2</td>\n",
       "      <td>Iris-setosa</td>\n",
       "    </tr>\n",
       "    <tr>\n",
       "      <th>2</th>\n",
       "      <td>4.7</td>\n",
       "      <td>3.2</td>\n",
       "      <td>1.3</td>\n",
       "      <td>0.2</td>\n",
       "      <td>Iris-setosa</td>\n",
       "    </tr>\n",
       "    <tr>\n",
       "      <th>3</th>\n",
       "      <td>4.6</td>\n",
       "      <td>3.1</td>\n",
       "      <td>1.5</td>\n",
       "      <td>0.2</td>\n",
       "      <td>Iris-setosa</td>\n",
       "    </tr>\n",
       "    <tr>\n",
       "      <th>4</th>\n",
       "      <td>5.0</td>\n",
       "      <td>3.6</td>\n",
       "      <td>1.4</td>\n",
       "      <td>0.2</td>\n",
       "      <td>Iris-setosa</td>\n",
       "    </tr>\n",
       "  </tbody>\n",
       "</table>\n",
       "</div>"
      ],
      "text/plain": [
       "   sepal_length  sepal_width  petal_length  petal_width      species\n",
       "0           5.1          3.5           1.4          0.2  Iris-setosa\n",
       "1           4.9          3.0           1.4          0.2  Iris-setosa\n",
       "2           4.7          3.2           1.3          0.2  Iris-setosa\n",
       "3           4.6          3.1           1.5          0.2  Iris-setosa\n",
       "4           5.0          3.6           1.4          0.2  Iris-setosa"
      ]
     },
     "execution_count": 2,
     "metadata": {},
     "output_type": "execute_result"
    }
   ],
   "source": [
    "iris = pd.read_csv('iris.csv')\n",
    "iris.head()"
   ]
  },
  {
   "cell_type": "code",
   "execution_count": 3,
   "metadata": {},
   "outputs": [],
   "source": [
    "X=iris.drop('species',axis=1)\n",
    "y=iris['species']\n",
    "\n",
    "X_train_iris, X_test_iris, y_train_iris, y_test_iris = train_test_split(X, y, test_size=0.3, random_state=0)"
   ]
  },
  {
   "cell_type": "code",
   "execution_count": 4,
   "metadata": {},
   "outputs": [],
   "source": [
    "#Arreglo para guardar los scores\n",
    "Scoreiris_GaussianNB_norm = []\n",
    "\n",
    "# Realizmos el número de pliegues\n",
    "kf = KFold(n_splits=5)\n",
    "\n",
    "#Declaramos el modelo de Naive Bayes\n",
    "model = GaussianNB()\n",
    "\n",
    "for train_index, test_index in kf.split(X_train_iris):\n",
    "    X_train2, X_test2 = X_train_iris.iloc[train_index], X_train_iris.iloc[test_index]\n",
    "    y_train2, y_test2 = y_train_iris.iloc[train_index], y_train_iris.iloc[test_index]\n",
    "    \n",
    "\n",
    "    model.fit(X_train2, y_train2)\n",
    "    \n",
    " \n",
    "    y_pred = model.predict(X_test2)\n",
    "    score = accuracy_score(y_test2, y_pred)\n",
    "    Scoreiris_GaussianNB_norm.append(score)\n"
   ]
  },
  {
   "cell_type": "code",
   "execution_count": 5,
   "metadata": {},
   "outputs": [
    {
     "name": "stdout",
     "output_type": "stream",
     "text": [
      "[0.8571428571428571, 0.9523809523809523, 1.0, 1.0, 0.9047619047619048]\n"
     ]
    },
    {
     "data": {
      "text/plain": [
       "0.9428571428571428"
      ]
     },
     "execution_count": 5,
     "metadata": {},
     "output_type": "execute_result"
    }
   ],
   "source": [
    "print(Scoreiris_GaussianNB_norm)\n",
    "media_norm_iris = np.mean(Scoreiris_GaussianNB_norm)\n",
    "media_norm_iris"
   ]
  },
  {
   "cell_type": "code",
   "execution_count": 6,
   "metadata": {},
   "outputs": [],
   "source": [
    "Score_iris_GaussianNB_multi = []\n",
    "model2 = MultinomialNB()\n",
    "\n",
    "for train_index, test_index in kf.split(X_train_iris):\n",
    "    X_train2, X_test2 = X_train_iris.iloc[train_index], X_train_iris.iloc[test_index]\n",
    "    y_train2, y_test2 = y_train_iris.iloc[train_index], y_train_iris.iloc[test_index]\n",
    "    \n",
    "    # Entrenar el modelo\n",
    "    model2.fit(X_train2, y_train2)\n",
    "    \n",
    "    # Predecir y evaluar\n",
    "    y_pred = model2.predict(X_test2)\n",
    "    score = accuracy_score(y_test2, y_pred)\n",
    "    Score_iris_GaussianNB_multi.append(score)\n",
    "\n",
    "\n"
   ]
  },
  {
   "cell_type": "code",
   "execution_count": 7,
   "metadata": {},
   "outputs": [
    {
     "name": "stdout",
     "output_type": "stream",
     "text": [
      "[0.5714285714285714, 0.7142857142857143, 0.9523809523809523, 0.6666666666666666, 0.5714285714285714]\n"
     ]
    },
    {
     "data": {
      "text/plain": [
       "0.6952380952380952"
      ]
     },
     "execution_count": 7,
     "metadata": {},
     "output_type": "execute_result"
    }
   ],
   "source": [
    "print(Score_iris_GaussianNB_multi)\n",
    "media_multi_iris = np.mean(Score_iris_GaussianNB_multi)\n",
    "media_multi_iris"
   ]
  },
  {
   "cell_type": "code",
   "execution_count": 8,
   "metadata": {},
   "outputs": [
    {
     "name": "stdout",
     "output_type": "stream",
     "text": [
      "1\n"
     ]
    }
   ],
   "source": [
    "if media_norm_iris > media_multi_iris:\n",
    "    print(1)\n",
    "    model.fit(X_test_iris, y_test_iris)\n",
    "    y_iris=model.predict(X_test_iris)\n",
    "elif media_norm_iris == media_multi_iris:\n",
    "    print(2)\n",
    "    model2.fit(X_test_iris, y_test_iris)\n",
    "    y_iris=model2.predict(X_test_iris)\n",
    "else:\n",
    "    print(3)\n",
    "    model2.fit(X_test_iris, y_test_iris)\n",
    "    y_iris=model2.predict(X_test_iris)"
   ]
  },
  {
   "cell_type": "code",
   "execution_count": 9,
   "metadata": {},
   "outputs": [
    {
     "name": "stdout",
     "output_type": "stream",
     "text": [
      "                 precision    recall  f1-score   support\n",
      "\n",
      "    Iris-setosa       1.00      1.00      1.00        16\n",
      "Iris-versicolor       1.00      1.00      1.00        18\n",
      " Iris-virginica       1.00      1.00      1.00        11\n",
      "\n",
      "       accuracy                           1.00        45\n",
      "      macro avg       1.00      1.00      1.00        45\n",
      "   weighted avg       1.00      1.00      1.00        45\n",
      "\n"
     ]
    },
    {
     "data": {
      "text/plain": [
       "<sklearn.metrics._plot.confusion_matrix.ConfusionMatrixDisplay at 0x14ef73990>"
      ]
     },
     "execution_count": 9,
     "metadata": {},
     "output_type": "execute_result"
    },
    {
     "data": {
      "image/png": "[encoded data removed]",
      "text/plain": [
       "<Figure size 640x480 with 2 Axes>"
      ]
     },
     "metadata": {},
     "output_type": "display_data"
    }
   ],
   "source": [
    "print(classification_report(y_test_iris, y_iris))\n",
    "cm_iris = confusion_matrix(y_test_iris, y_iris)\n",
    "disp = ConfusionMatrixDisplay(confusion_matrix=cm_iris)\n",
    "disp.plot()"
   ]
  },
  {
   "cell_type": "markdown",
   "metadata": {},
   "source": [
    "# CONJUNTO DE DATOS EMAILS"
   ]
  },
  {
   "cell_type": "markdown",
   "metadata": {},
   "source": [
    "## Crear data frame"
   ]
  },
  {
   "cell_type": "code",
   "execution_count": 10,
   "metadata": {},
   "outputs": [
    {
     "data": {
      "text/html": [
       "<div>\n",
       "<style scoped>\n",
       "    .dataframe tbody tr th:only-of-type {\n",
       "        vertical-align: middle;\n",
       "    }\n",
       "\n",
       "    .dataframe tbody tr th {\n",
       "        vertical-align: top;\n",
       "    }\n",
       "\n",
       "    .dataframe thead th {\n",
       "        text-align: right;\n",
       "    }\n",
       "</style>\n",
       "<table border=\"1\" class=\"dataframe\">\n",
       "  <thead>\n",
       "    <tr style=\"text-align: right;\">\n",
       "      <th></th>\n",
       "      <th>Email No.</th>\n",
       "      <th>the</th>\n",
       "      <th>to</th>\n",
       "      <th>ect</th>\n",
       "      <th>and</th>\n",
       "      <th>for</th>\n",
       "      <th>of</th>\n",
       "      <th>a</th>\n",
       "      <th>you</th>\n",
       "      <th>hou</th>\n",
       "      <th>...</th>\n",
       "      <th>connevey</th>\n",
       "      <th>jay</th>\n",
       "      <th>valued</th>\n",
       "      <th>lay</th>\n",
       "      <th>infrastructure</th>\n",
       "      <th>military</th>\n",
       "      <th>allowing</th>\n",
       "      <th>ff</th>\n",
       "      <th>dry</th>\n",
       "      <th>Prediction</th>\n",
       "    </tr>\n",
       "  </thead>\n",
       "  <tbody>\n",
       "    <tr>\n",
       "      <th>0</th>\n",
       "      <td>Email 1</td>\n",
       "      <td>0</td>\n",
       "      <td>0</td>\n",
       "      <td>1</td>\n",
       "      <td>0</td>\n",
       "      <td>0</td>\n",
       "      <td>0</td>\n",
       "      <td>2</td>\n",
       "      <td>0</td>\n",
       "      <td>0</td>\n",
       "      <td>...</td>\n",
       "      <td>0</td>\n",
       "      <td>0</td>\n",
       "      <td>0</td>\n",
       "      <td>0</td>\n",
       "      <td>0</td>\n",
       "      <td>0</td>\n",
       "      <td>0</td>\n",
       "      <td>0</td>\n",
       "      <td>0</td>\n",
       "      <td>0</td>\n",
       "    </tr>\n",
       "    <tr>\n",
       "      <th>1</th>\n",
       "      <td>Email 2</td>\n",
       "      <td>8</td>\n",
       "      <td>13</td>\n",
       "      <td>24</td>\n",
       "      <td>6</td>\n",
       "      <td>6</td>\n",
       "      <td>2</td>\n",
       "      <td>102</td>\n",
       "      <td>1</td>\n",
       "      <td>27</td>\n",
       "      <td>...</td>\n",
       "      <td>0</td>\n",
       "      <td>0</td>\n",
       "      <td>0</td>\n",
       "      <td>0</td>\n",
       "      <td>0</td>\n",
       "      <td>0</td>\n",
       "      <td>0</td>\n",
       "      <td>1</td>\n",
       "      <td>0</td>\n",
       "      <td>0</td>\n",
       "    </tr>\n",
       "    <tr>\n",
       "      <th>2</th>\n",
       "      <td>Email 3</td>\n",
       "      <td>0</td>\n",
       "      <td>0</td>\n",
       "      <td>1</td>\n",
       "      <td>0</td>\n",
       "      <td>0</td>\n",
       "      <td>0</td>\n",
       "      <td>8</td>\n",
       "      <td>0</td>\n",
       "      <td>0</td>\n",
       "      <td>...</td>\n",
       "      <td>0</td>\n",
       "      <td>0</td>\n",
       "      <td>0</td>\n",
       "      <td>0</td>\n",
       "      <td>0</td>\n",
       "      <td>0</td>\n",
       "      <td>0</td>\n",
       "      <td>0</td>\n",
       "      <td>0</td>\n",
       "      <td>0</td>\n",
       "    </tr>\n",
       "    <tr>\n",
       "      <th>3</th>\n",
       "      <td>Email 4</td>\n",
       "      <td>0</td>\n",
       "      <td>5</td>\n",
       "      <td>22</td>\n",
       "      <td>0</td>\n",
       "      <td>5</td>\n",
       "      <td>1</td>\n",
       "      <td>51</td>\n",
       "      <td>2</td>\n",
       "      <td>10</td>\n",
       "      <td>...</td>\n",
       "      <td>0</td>\n",
       "      <td>0</td>\n",
       "      <td>0</td>\n",
       "      <td>0</td>\n",
       "      <td>0</td>\n",
       "      <td>0</td>\n",
       "      <td>0</td>\n",
       "      <td>0</td>\n",
       "      <td>0</td>\n",
       "      <td>0</td>\n",
       "    </tr>\n",
       "    <tr>\n",
       "      <th>4</th>\n",
       "      <td>Email 5</td>\n",
       "      <td>7</td>\n",
       "      <td>6</td>\n",
       "      <td>17</td>\n",
       "      <td>1</td>\n",
       "      <td>5</td>\n",
       "      <td>2</td>\n",
       "      <td>57</td>\n",
       "      <td>0</td>\n",
       "      <td>9</td>\n",
       "      <td>...</td>\n",
       "      <td>0</td>\n",
       "      <td>0</td>\n",
       "      <td>0</td>\n",
       "      <td>0</td>\n",
       "      <td>0</td>\n",
       "      <td>0</td>\n",
       "      <td>0</td>\n",
       "      <td>1</td>\n",
       "      <td>0</td>\n",
       "      <td>0</td>\n",
       "    </tr>\n",
       "  </tbody>\n",
       "</table>\n",
       "<p>5 rows × 3002 columns</p>\n",
       "</div>"
      ],
      "text/plain": [
       "  Email No.  the  to  ect  and  for  of    a  you  hou  ...  connevey  jay  \\\n",
       "0   Email 1    0   0    1    0    0   0    2    0    0  ...         0    0   \n",
       "1   Email 2    8  13   24    6    6   2  102    1   27  ...         0    0   \n",
       "2   Email 3    0   0    1    0    0   0    8    0    0  ...         0    0   \n",
       "3   Email 4    0   5   22    0    5   1   51    2   10  ...         0    0   \n",
       "4   Email 5    7   6   17    1    5   2   57    0    9  ...         0    0   \n",
       "\n",
       "   valued  lay  infrastructure  military  allowing  ff  dry  Prediction  \n",
       "0       0    0               0         0         0   0    0           0  \n",
       "1       0    0               0         0         0   1    0           0  \n",
       "2       0    0               0         0         0   0    0           0  \n",
       "3       0    0               0         0         0   0    0           0  \n",
       "4       0    0               0         0         0   1    0           0  \n",
       "\n",
       "[5 rows x 3002 columns]"
      ]
     },
     "execution_count": 10,
     "metadata": {},
     "output_type": "execute_result"
    }
   ],
   "source": [
    "emails = pd.read_csv('emails.csv')\n",
    "emails.head()"
   ]
  },
  {
   "cell_type": "code",
   "execution_count": 11,
   "metadata": {},
   "outputs": [],
   "source": [
    "X = emails.drop(['Email No.','Prediction'], axis=1)\n",
    "y = emails['Prediction']\n",
    "\n",
    "X_train_emails, X_test_emails, y_train_emails, y_test_emails = train_test_split(X, y, test_size=0.3, random_state=0)"
   ]
  },
  {
   "cell_type": "code",
   "execution_count": 12,
   "metadata": {},
   "outputs": [],
   "source": [
    "X_train_emails, X_test_emails, y_train_emails, y_test_emails = train_test_split(X, y, test_size=0.3, random_state=0)"
   ]
  },
  {
   "cell_type": "code",
   "execution_count": 13,
   "metadata": {},
   "outputs": [],
   "source": [
    "Score_gaussianNB = []\n",
    "kf = KFold(n_splits=5)\n",
    "model = GaussianNB()\n",
    "for train_index, test_index in kf.split(X_train_emails):\n",
    "    X_train2, X_test2 = X_train_emails.iloc[train_index], X_train_emails.iloc[test_index]\n",
    "    y_train2, y_test2 = y_train_emails.iloc[train_index], y_train_emails.iloc[test_index]\n",
    "    model.fit(X_train2, y_train2)\n",
    "    y_pred = model.predict(X_test2)\n",
    "    Score_gaussianNB.append(accuracy_score(y_test2, y_pred))"
   ]
  },
  {
   "cell_type": "code",
   "execution_count": 14,
   "metadata": {},
   "outputs": [
    {
     "name": "stdout",
     "output_type": "stream",
     "text": [
      "[0.9475138121546961, 0.9571823204419889, 0.9502762430939227, 0.9516574585635359, 0.9447513812154696]\n"
     ]
    },
    {
     "data": {
      "text/plain": [
       "0.9502762430939227"
      ]
     },
     "execution_count": 14,
     "metadata": {},
     "output_type": "execute_result"
    }
   ],
   "source": [
    "print(Score_gaussianNB)\n",
    "media_norm = np.mean(Score_gaussianNB)\n",
    "media_norm"
   ]
  },
  {
   "cell_type": "code",
   "execution_count": 15,
   "metadata": {},
   "outputs": [],
   "source": [
    "Score_GaussianNB_multi = []\n",
    "model2 = MultinomialNB()\n",
    "\n",
    "for train_index, test_index in kf.split(X_train_emails):\n",
    "    X_train2, X_test2 = X_train_emails.iloc[train_index], X_train_emails.iloc[test_index]\n",
    "    y_train2, y_test2 = y_train_emails.iloc[train_index], y_train_emails.iloc[test_index]\n",
    "    \n",
    "    # Entrenar el modelo\n",
    "    model2.fit(X_train2, y_train2)\n",
    "    \n",
    "    # Predecir y evaluar\n",
    "    y_pred = model2.predict(X_test2)\n",
    "    score = accuracy_score(y_test2, y_pred)\n",
    "    Score_GaussianNB_multi.append(score)\n"
   ]
  },
  {
   "cell_type": "code",
   "execution_count": 16,
   "metadata": {},
   "outputs": [
    {
     "name": "stdout",
     "output_type": "stream",
     "text": [
      "[0.9516574585635359, 0.9447513812154696, 0.9433701657458563, 0.9461325966850829, 0.9433701657458563]\n"
     ]
    },
    {
     "data": {
      "text/plain": [
       "0.9458563535911602"
      ]
     },
     "execution_count": 16,
     "metadata": {},
     "output_type": "execute_result"
    }
   ],
   "source": [
    "print(Score_GaussianNB_multi)\n",
    "media_multi = np.mean(Score_GaussianNB_multi)\n",
    "media_multi"
   ]
  },
  {
   "cell_type": "code",
   "execution_count": 17,
   "metadata": {},
   "outputs": [
    {
     "name": "stdout",
     "output_type": "stream",
     "text": [
      "1\n"
     ]
    }
   ],
   "source": [
    "if media_norm > media_multi:\n",
    "    print(1)\n",
    "    model.fit(X_train_emails, y_train_emails)\n",
    "    y_email=model.predict(X_test_emails)\n",
    "elif media_norm == media_multi:\n",
    "    print(2)\n",
    "    model2.fit(X_train_emails, y_train_emails)\n",
    "    y_email=model2.predict(X_test_emails)\n",
    "else:\n",
    "    print(3)\n",
    "    model2.fit(X_train_emails, y_train_emails)\n",
    "    y_email=model2.predict(X_test_emails)"
   ]
  },
  {
   "cell_type": "code",
   "execution_count": 18,
   "metadata": {},
   "outputs": [
    {
     "name": "stdout",
     "output_type": "stream",
     "text": [
      "              precision    recall  f1-score   support\n",
      "\n",
      "           0       0.98      0.95      0.96      1111\n",
      "           1       0.88      0.95      0.91       441\n",
      "\n",
      "    accuracy                           0.95      1552\n",
      "   macro avg       0.93      0.95      0.94      1552\n",
      "weighted avg       0.95      0.95      0.95      1552\n",
      "\n"
     ]
    },
    {
     "data": {
      "text/plain": [
       "<sklearn.metrics._plot.confusion_matrix.ConfusionMatrixDisplay at 0x14ef8f710>"
      ]
     },
     "execution_count": 18,
     "metadata": {},
     "output_type": "execute_result"
    },
    {
     "data": {
      "image/png": "[encoded data removed]",
      "text/plain": [
       "<Figure size 640x480 with 2 Axes>"
      ]
     },
     "metadata": {},
     "output_type": "display_data"
    }
   ],
   "source": [
    "print(classification_report(y_test_emails, y_email))\n",
    "cm_email = confusion_matrix(y_test_emails, y_email)\n",
    "disp = ConfusionMatrixDisplay(confusion_matrix=cm_email)\n",
    "disp.plot()"
   ]
  },
  {
   "cell_type": "markdown",
   "metadata": {},
   "source": [
    "# IMPRIMIR RESULTADOS"
   ]
  },
  {
   "cell_type": "code",
   "execution_count": 19,
   "metadata": {},
   "outputs": [
    {
     "name": "stdout",
     "output_type": "stream",
     "text": [
      "Resultados para Iris\n",
      "\n",
      "GaussianNB Fold 0 Accuracy: 0.8571\n",
      "GaussianNB Fold 1 Accuracy: 0.9524\n",
      "GaussianNB Fold 2 Accuracy: 1.0\n",
      "GaussianNB Fold 3 Accuracy: 1.0\n",
      "GaussianNB Fold 4 Accuracy: 0.9048\n",
      "GaussianNB Promedio Accuracy: 0.9429\n",
      "\n",
      "MultinomialNB Fold 0 Accuracy: 0.5714\n",
      "MultinomialNB Fold 1 Accuracy: 0.7143\n",
      "MultinomialNB Fold 2 Accuracy: 0.9524\n",
      "MultinomialNB Fold 3 Accuracy: 0.6667\n",
      "MultinomialNB Fold 4 Accuracy: 0.5714\n",
      "MultinomialNB Promedio Accuracy: 0.6952\n",
      "\n",
      "                 precision    recall  f1-score   support\n",
      "\n",
      "    Iris-setosa       1.00      1.00      1.00        16\n",
      "Iris-versicolor       1.00      1.00      1.00        18\n",
      " Iris-virginica       1.00      1.00      1.00        11\n",
      "\n",
      "       accuracy                           1.00        45\n",
      "      macro avg       1.00      1.00      1.00        45\n",
      "   weighted avg       1.00      1.00      1.00        45\n",
      "\n",
      "Modelo utilizado para Iris: GaussianNB\n",
      "Iris Accuracy: 1.0\n",
      "\n"
     ]
    },
    {
     "data": {
      "text/plain": [
       "<sklearn.metrics._plot.confusion_matrix.ConfusionMatrixDisplay at 0x14f0f3890>"
      ]
     },
     "execution_count": 19,
     "metadata": {},
     "output_type": "execute_result"
    },
    {
     "data": {
      "image/png": "[encoded data removed]",
      "text/plain": [
       "<Figure size 640x480 with 2 Axes>"
      ]
     },
     "metadata": {},
     "output_type": "display_data"
    }
   ],
   "source": [
    "print('Resultados para Iris\\n')\n",
    "\n",
    "for i in range(len(Scoreiris_GaussianNB_norm)):\n",
    "    print('GaussianNB Fold ' + str(i) +' Accuracy: '+str(round(Scoreiris_GaussianNB_norm[i],4)))\n",
    "print('GaussianNB Promedio Accuracy: '+str(round(media_norm_iris,4))+'\\n')\n",
    "\n",
    "for i in range(len(Score_iris_GaussianNB_multi)):\n",
    "    print('MultinomialNB Fold ' + str(i) +' Accuracy: '+str(round(Score_iris_GaussianNB_multi[i],4)))\n",
    "print('MultinomialNB Promedio Accuracy: '+str(round(media_multi_iris,4))+ '\\n')\n",
    "\n",
    "print(classification_report(y_test_iris, y_iris))\n",
    "\n",
    "cm_iris = confusion_matrix(y_test_iris, y_iris)\n",
    "disp = ConfusionMatrixDisplay(confusion_matrix=cm_iris)\n",
    "\n",
    "if media_norm_iris > media_multi_iris:\n",
    "    print('Modelo utilizado para Iris: GaussianNB')\n",
    "else:\n",
    "    print('Modelo utilizado para Iris: MultinomialNB')\n",
    "print('Iris Accuracy: '+str(round(accuracy_score(y_test_iris, y_iris),4))+'\\n')\n",
    "disp.plot()"
   ]
  },
  {
   "cell_type": "code",
   "execution_count": 20,
   "metadata": {},
   "outputs": [
    {
     "name": "stdout",
     "output_type": "stream",
     "text": [
      "Resultados para Emails\n",
      "\n",
      "GaussianNB Fold 0 Accuracy: 0.9475\n",
      "GaussianNB Fold 1 Accuracy: 0.9572\n",
      "GaussianNB Fold 2 Accuracy: 0.9503\n",
      "GaussianNB Fold 3 Accuracy: 0.9517\n",
      "GaussianNB Fold 4 Accuracy: 0.9448\n",
      "GaussianNB Promedio Accuracy: 0.9503\n",
      "\n",
      "MultinomialNB Fold 0 Accuracy: 0.9517\n",
      "MultinomialNB Fold 1 Accuracy: 0.9448\n",
      "MultinomialNB Fold 2 Accuracy: 0.9434\n",
      "MultinomialNB Fold 3 Accuracy: 0.9461\n",
      "MultinomialNB Fold 4 Accuracy: 0.9434\n",
      "MultinomialNB Promedio Accuracy: 0.9459\n",
      "\n",
      "              precision    recall  f1-score   support\n",
      "\n",
      "           0       0.98      0.95      0.96      1111\n",
      "           1       0.88      0.95      0.91       441\n",
      "\n",
      "    accuracy                           0.95      1552\n",
      "   macro avg       0.93      0.95      0.94      1552\n",
      "weighted avg       0.95      0.95      0.95      1552\n",
      "\n",
      "Modelo utilizado para Emails: GaussianNB\n",
      "Emails Accuracy: 0.9485\n"
     ]
    },
    {
     "data": {
      "text/plain": [
       "<sklearn.metrics._plot.confusion_matrix.ConfusionMatrixDisplay at 0x14f10ba10>"
      ]
     },
     "execution_count": 20,
     "metadata": {},
     "output_type": "execute_result"
    },
    {
     "data": {
      "image/png": "[encoded data removed]",
      "text/plain": [
       "<Figure size 640x480 with 2 Axes>"
      ]
     },
     "metadata": {},
     "output_type": "display_data"
    }
   ],
   "source": [
    "print('Resultados para Emails\\n')\n",
    "for i in range(len(Score_gaussianNB)):\n",
    "    print('GaussianNB Fold ' + str(i) +' Accuracy: '+str(round(Score_gaussianNB[i],4)))\n",
    "print('GaussianNB Promedio Accuracy: '+str(round(media_norm,4))+'\\n')\n",
    "\n",
    "for i in range(len(Score_GaussianNB_multi)):\n",
    "    print('MultinomialNB Fold ' + str(i) +' Accuracy: '+str(round(Score_GaussianNB_multi[i],4)))\n",
    "print('MultinomialNB Promedio Accuracy: '+str(round(media_multi,4))+'\\n')\n",
    "\n",
    "print(classification_report(y_test_emails, y_email))\n",
    "cm_email = confusion_matrix(y_test_emails, y_email)\n",
    "disp = ConfusionMatrixDisplay(confusion_matrix=cm_email)\n",
    "\n",
    "if media_norm > media_multi:\n",
    "    print('Modelo utilizado para Emails: GaussianNB')\n",
    "else:\n",
    "    print('Modelo utilizado para Emails: MultinomialNB')\n",
    "print('Emails Accuracy: '+str(round(accuracy_score(y_test_emails, y_email),4)))\n",
    "disp.plot()"
   ]
  }
 ],
 "metadata": {
  "kernelspec": {
   "display_name": "base",
   "language": "python",
   "name": "python3"
  },
  "language_info": {
   "codemirror_mode": {
    "name": "ipython",
    "version": 3
   },
   "file_extension": ".py",
   "mimetype": "text/x-python",
   "name": "python",
   "nbconvert_exporter": "python",
   "pygments_lexer": "ipython3",
   "version": "3.11.5"
  }
 },
 "nbformat": 4,
 "nbformat_minor": 2
}
